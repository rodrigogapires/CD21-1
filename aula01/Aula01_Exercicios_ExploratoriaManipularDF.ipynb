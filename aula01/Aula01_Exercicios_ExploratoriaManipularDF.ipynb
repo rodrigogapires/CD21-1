{
 "cells": [
  {
   "cell_type": "markdown",
   "metadata": {},
   "source": [
    "# Ciência dos Dados - 2021 / Primeiro Semestre\n",
    "\n",
    "## Aula 01 - Exercícios Exploratória para Manipular um DataFrame"
   ]
  },
  {
   "cell_type": "markdown",
   "metadata": {},
   "source": [
    "___\n",
    "## Índice\n",
    "\n",
    "- [Gapminder](#gap)\n",
    "- [Exercício 1](#ex1)\n",
    "- [Exercício 2](#ex2)\n",
    "- [Resumo dos comandos](#resumo-comandos)"
   ]
  },
  {
   "cell_type": "markdown",
   "metadata": {},
   "source": [
    "___\n",
    "**IMPORTANTE**: os exercícios marcados com &#x2605;&#x2605;&#x2605; são mais difíceis e vão exigir que você aprenda novas funções do pandas. Recomendamos que vocês tentem fazer esses exercícios mesmo depois da aula.\n"
   ]
  },
  {
   "cell_type": "markdown",
   "metadata": {},
   "source": [
    "<div id=\"gap\"></div>\n",
    "\n",
    "___\n",
    "\n",
    "## Gapminder\n",
    "\n",
    "Gapminder é uma fundação sueca independente, sem afiliações políticas, religiosas ou econômicas.\n",
    "Possui diversas estatísticas socioeconômicas de quase todos países do mundo que podem ser facilmente obtidas por este [link](https://www.gapminder.org/data/).\n",
    "\n",
    "Para visualizar relações entre alguns indicadores dos países, veja [aqui](https://www.gapminder.org/tools/)\n"
   ]
  },
  {
   "cell_type": "markdown",
   "metadata": {},
   "source": [
    "O arquivo `Gapminder.xlsx` contém um *dataset* extraída do software R (mais detalhes [aqui](https://rdrr.io/cran/dslabs/man/gapminder.html)).\n",
    "\n",
    "Essa base de dados precisa de algumas manipulações antes de iniciar a análise exploratória, entretanto, a mesma irá depender do problema traçado. Nesse *dataframe*, os indicadores estão mensurados para 185 países os quais se repetem entre os anos de 1960 e 2016.\n"
   ]
  },
  {
   "cell_type": "code",
   "execution_count": 2,
   "metadata": {},
   "outputs": [],
   "source": [
    "# Importando as bibliotecas necessárias para esta atividade\n",
    "import pandas as pd\n",
    "import os"
   ]
  },
  {
   "cell_type": "code",
   "execution_count": 3,
   "metadata": {},
   "outputs": [
    {
     "output_type": "stream",
     "name": "stdout",
     "text": [
      "Esperamos trabalhar no diretório: \nc:\\Users\\rodrigo\\Desktop\\CD21-1\\aula01\n\n"
     ]
    }
   ],
   "source": [
    "print(f'Esperamos trabalhar no diretório: \\n{os.getcwd()}\\n')"
   ]
  },
  {
   "cell_type": "code",
   "execution_count": 4,
   "metadata": {},
   "outputs": [
    {
     "output_type": "stream",
     "name": "stdout",
     "text": [
      "Parece que o arquivo Gapminder.xlsx está na mesma pasta do notebook, yay!\n"
     ]
    }
   ],
   "source": [
    "filename = 'Gapminder.xlsx'\n",
    "\n",
    "if filename in os.listdir():\n",
    "    print(f'Parece que o arquivo {filename} está na mesma pasta do notebook, yay!')\n",
    "    \n",
    "else:\n",
    "    print(f'Não encontrei o arquivo {filename}')"
   ]
  },
  {
   "cell_type": "code",
   "execution_count": 5,
   "metadata": {},
   "outputs": [],
   "source": [
    "gap = pd.read_excel('Gapminder.xlsx')"
   ]
  },
  {
   "cell_type": "markdown",
   "metadata": {},
   "source": [
    "Aqui, `gap` é uma variável do tipo `DataFrame`. Cada uma das colunas significa:\n",
    "\n",
    "- **country**: nome do país;\n",
    "- **year**: ano;\n",
    "- **infant_mortality**: mortalidade infantil a cada 1000 nascidos;\n",
    "- **life_expectancy**: expectativa de vida;\n",
    "- **fertility**: número médio de filhos por mulher;\n",
    "- **population**: população do país;\n",
    "- **gpd**: PIB de acordo com World Bankdev;\n",
    "- **continent**: continente;\n",
    "- **region**: região geográfica.\n",
    "\n"
   ]
  },
  {
   "cell_type": "code",
   "execution_count": 6,
   "metadata": {},
   "outputs": [
    {
     "output_type": "execute_result",
     "data": {
      "text/plain": [
       "   Unnamed: 0              country  year  infant_mortality  life_expectancy  \\\n",
       "0           1              Albania  1960            115.40            62.87   \n",
       "1           2              Algeria  1960            148.20            47.50   \n",
       "2           3               Angola  1960            208.00            35.98   \n",
       "3           4  Antigua and Barbuda  1960               NaN            62.97   \n",
       "4           5            Argentina  1960             59.87            65.39   \n",
       "\n",
       "   fertility  population           gdp continent           region  \n",
       "0       6.19   1636054.0           NaN    Europe  Southern Europe  \n",
       "1       7.65  11124892.0  1.382815e+10    Africa  Northern Africa  \n",
       "2       7.32   5270844.0           NaN    Africa    Middle Africa  \n",
       "3       4.43     54681.0           NaN  Americas        Caribbean  \n",
       "4       3.11  20619075.0  1.083223e+11  Americas    South America  "
      ],
      "text/html": "<div>\n<style scoped>\n    .dataframe tbody tr th:only-of-type {\n        vertical-align: middle;\n    }\n\n    .dataframe tbody tr th {\n        vertical-align: top;\n    }\n\n    .dataframe thead th {\n        text-align: right;\n    }\n</style>\n<table border=\"1\" class=\"dataframe\">\n  <thead>\n    <tr style=\"text-align: right;\">\n      <th></th>\n      <th>Unnamed: 0</th>\n      <th>country</th>\n      <th>year</th>\n      <th>infant_mortality</th>\n      <th>life_expectancy</th>\n      <th>fertility</th>\n      <th>population</th>\n      <th>gdp</th>\n      <th>continent</th>\n      <th>region</th>\n    </tr>\n  </thead>\n  <tbody>\n    <tr>\n      <th>0</th>\n      <td>1</td>\n      <td>Albania</td>\n      <td>1960</td>\n      <td>115.40</td>\n      <td>62.87</td>\n      <td>6.19</td>\n      <td>1636054.0</td>\n      <td>NaN</td>\n      <td>Europe</td>\n      <td>Southern Europe</td>\n    </tr>\n    <tr>\n      <th>1</th>\n      <td>2</td>\n      <td>Algeria</td>\n      <td>1960</td>\n      <td>148.20</td>\n      <td>47.50</td>\n      <td>7.65</td>\n      <td>11124892.0</td>\n      <td>1.382815e+10</td>\n      <td>Africa</td>\n      <td>Northern Africa</td>\n    </tr>\n    <tr>\n      <th>2</th>\n      <td>3</td>\n      <td>Angola</td>\n      <td>1960</td>\n      <td>208.00</td>\n      <td>35.98</td>\n      <td>7.32</td>\n      <td>5270844.0</td>\n      <td>NaN</td>\n      <td>Africa</td>\n      <td>Middle Africa</td>\n    </tr>\n    <tr>\n      <th>3</th>\n      <td>4</td>\n      <td>Antigua and Barbuda</td>\n      <td>1960</td>\n      <td>NaN</td>\n      <td>62.97</td>\n      <td>4.43</td>\n      <td>54681.0</td>\n      <td>NaN</td>\n      <td>Americas</td>\n      <td>Caribbean</td>\n    </tr>\n    <tr>\n      <th>4</th>\n      <td>5</td>\n      <td>Argentina</td>\n      <td>1960</td>\n      <td>59.87</td>\n      <td>65.39</td>\n      <td>3.11</td>\n      <td>20619075.0</td>\n      <td>1.083223e+11</td>\n      <td>Americas</td>\n      <td>South America</td>\n    </tr>\n  </tbody>\n</table>\n</div>"
     },
     "metadata": {},
     "execution_count": 6
    }
   ],
   "source": [
    "gap.head()"
   ]
  },
  {
   "cell_type": "markdown",
   "metadata": {},
   "source": [
    "<div id=\"ex1\"></div>\n",
    "\n",
    "___\n",
    "\n",
    "### EXERCÍCIO 1\n",
    "\n",
    "Faça as seguintes manipulações:\n",
    " 1. Filtre apenas as linhas do ano 2010 e selecione as variáveis: `country`, `gdp`, `population` e `continent`\n",
    " 1. Guarde o subconjunto anterior em um novo `DataFrame` chamado `gap2010` e, nele, crie a variável `gdp_cap` que contenha o PIB per capita.\n",
    " 1. Encontre o país com menor PIB per capita em 2010. **Preencha o valor do PIB per capita desse país no campo de resposta do questionário do Blackboard.**\n",
    "\n",
    "**Dica**: use `gap.dtypes` para saber o tipo de cada variável. Ainda, consulte [aqui](https://cmdlinetips.com/2019/01/3-ways-to-add-new-columns-to-pandas-dataframe/) para entender como criar novas colunas em um *dataframe*."
   ]
  },
  {
   "cell_type": "code",
   "execution_count": 7,
   "metadata": {},
   "outputs": [
    {
     "output_type": "execute_result",
     "data": {
      "text/plain": [
       "                  country           gdp  population continent\n",
       "9250              Albania  6.137564e+09   2901883.0    Europe\n",
       "9251              Algeria  7.916434e+10  36036159.0    Africa\n",
       "9252               Angola  2.612566e+10  21219954.0    Africa\n",
       "9253  Antigua and Barbuda  8.366868e+08     87233.0  Americas\n",
       "9254            Argentina  4.344055e+11  41222875.0  Americas\n",
       "...                   ...           ...         ...       ...\n",
       "9430   West Bank and Gaza           NaN   4068780.0      Asia\n",
       "9431              Vietnam  6.283222e+10  88357775.0      Asia\n",
       "9432                Yemen  1.463827e+10  23591972.0      Asia\n",
       "9433               Zambia  5.587390e+09  13917439.0    Africa\n",
       "9434             Zimbabwe  4.032423e+09  13973897.0    Africa\n",
       "\n",
       "[185 rows x 4 columns]"
      ],
      "text/html": "<div>\n<style scoped>\n    .dataframe tbody tr th:only-of-type {\n        vertical-align: middle;\n    }\n\n    .dataframe tbody tr th {\n        vertical-align: top;\n    }\n\n    .dataframe thead th {\n        text-align: right;\n    }\n</style>\n<table border=\"1\" class=\"dataframe\">\n  <thead>\n    <tr style=\"text-align: right;\">\n      <th></th>\n      <th>country</th>\n      <th>gdp</th>\n      <th>population</th>\n      <th>continent</th>\n    </tr>\n  </thead>\n  <tbody>\n    <tr>\n      <th>9250</th>\n      <td>Albania</td>\n      <td>6.137564e+09</td>\n      <td>2901883.0</td>\n      <td>Europe</td>\n    </tr>\n    <tr>\n      <th>9251</th>\n      <td>Algeria</td>\n      <td>7.916434e+10</td>\n      <td>36036159.0</td>\n      <td>Africa</td>\n    </tr>\n    <tr>\n      <th>9252</th>\n      <td>Angola</td>\n      <td>2.612566e+10</td>\n      <td>21219954.0</td>\n      <td>Africa</td>\n    </tr>\n    <tr>\n      <th>9253</th>\n      <td>Antigua and Barbuda</td>\n      <td>8.366868e+08</td>\n      <td>87233.0</td>\n      <td>Americas</td>\n    </tr>\n    <tr>\n      <th>9254</th>\n      <td>Argentina</td>\n      <td>4.344055e+11</td>\n      <td>41222875.0</td>\n      <td>Americas</td>\n    </tr>\n    <tr>\n      <th>...</th>\n      <td>...</td>\n      <td>...</td>\n      <td>...</td>\n      <td>...</td>\n    </tr>\n    <tr>\n      <th>9430</th>\n      <td>West Bank and Gaza</td>\n      <td>NaN</td>\n      <td>4068780.0</td>\n      <td>Asia</td>\n    </tr>\n    <tr>\n      <th>9431</th>\n      <td>Vietnam</td>\n      <td>6.283222e+10</td>\n      <td>88357775.0</td>\n      <td>Asia</td>\n    </tr>\n    <tr>\n      <th>9432</th>\n      <td>Yemen</td>\n      <td>1.463827e+10</td>\n      <td>23591972.0</td>\n      <td>Asia</td>\n    </tr>\n    <tr>\n      <th>9433</th>\n      <td>Zambia</td>\n      <td>5.587390e+09</td>\n      <td>13917439.0</td>\n      <td>Africa</td>\n    </tr>\n    <tr>\n      <th>9434</th>\n      <td>Zimbabwe</td>\n      <td>4.032423e+09</td>\n      <td>13973897.0</td>\n      <td>Africa</td>\n    </tr>\n  </tbody>\n</table>\n<p>185 rows × 4 columns</p>\n</div>"
     },
     "metadata": {},
     "execution_count": 7
    }
   ],
   "source": [
    "gap2010 = gap.loc[gap['year'] == 2010,['country', 'gdp', 'population', 'continent']]\n",
    "gap2010\n"
   ]
  },
  {
   "cell_type": "code",
   "execution_count": 12,
   "metadata": {},
   "outputs": [
    {
     "output_type": "execute_result",
     "data": {
      "text/plain": [
       "               country           gdp  population continent     gdp_cap\n",
       "9287  Congo, Dem. Rep.  6.961485e+09  65938712.0    Africa  105.575083"
      ],
      "text/html": "<div>\n<style scoped>\n    .dataframe tbody tr th:only-of-type {\n        vertical-align: middle;\n    }\n\n    .dataframe tbody tr th {\n        vertical-align: top;\n    }\n\n    .dataframe thead th {\n        text-align: right;\n    }\n</style>\n<table border=\"1\" class=\"dataframe\">\n  <thead>\n    <tr style=\"text-align: right;\">\n      <th></th>\n      <th>country</th>\n      <th>gdp</th>\n      <th>population</th>\n      <th>continent</th>\n      <th>gdp_cap</th>\n    </tr>\n  </thead>\n  <tbody>\n    <tr>\n      <th>9287</th>\n      <td>Congo, Dem. Rep.</td>\n      <td>6.961485e+09</td>\n      <td>65938712.0</td>\n      <td>Africa</td>\n      <td>105.575083</td>\n    </tr>\n  </tbody>\n</table>\n</div>"
     },
     "metadata": {},
     "execution_count": 12
    }
   ],
   "source": [
    "gap2010['gdp_cap'] = gap2010['gdp'] / gap2010['population']\n",
    "gap2010.sort_values(['gdp_cap']).head(1)"
   ]
  },
  {
   "cell_type": "markdown",
   "metadata": {},
   "source": [
    "<div id=\"ex2\"></div>\n",
    "\n",
    "___\n",
    "\n",
    "### EXERCÍCIO 2 &#x2605;&#x2605;&#x2605;\n",
    "\n",
    "Faça as seguintes manipulações:\n",
    "  1. Encontre os cinco maiores países (em tamanho populacional) do ano de 2015;\n",
    "  1. Guarde apenas os nomes desses cinco países em uma lista;\n",
    "  1. Considerando a base de dados com todos os anos, filtre as linhas que contenham apenas os cinco países dessa lista e com as colunas  `country`, `year`, `gdp` e `population`. Guarde esse subconjunto em `gap5`;\n",
    "  1. No `DataFrame` `gap5`, crie a variável `dollar_day`, a qual representa uma *proxy* da renda per capita diária do país;\n",
    "  1. Responda no Blackboard o valor da renda per capita diária de cada país no ano de 1960, em ordem crescente.\n",
    "\n",
    "**Dica**: Para filtrar as linhas apenas dos cinco países selecionados no item 1 deste exercício, pesquise por:\n",
    "  - `isin`: retorna booleano se conteúdo da variável faz parte ou não de uma lista. Consulte sobre esse comando `isin` [aqui](https://pandas.pydata.org/pandas-docs/stable/reference/api/pandas.DataFrame.isin.html)\n",
    "  "
   ]
  },
  {
   "cell_type": "code",
   "execution_count": 9,
   "metadata": {},
   "outputs": [
    {
     "output_type": "execute_result",
     "data": {
      "text/plain": [
       "             country\n",
       "10209          China\n",
       "10251          India\n",
       "10350  United States\n",
       "10252      Indonesia\n",
       "10197         Brazil"
      ],
      "text/html": "<div>\n<style scoped>\n    .dataframe tbody tr th:only-of-type {\n        vertical-align: middle;\n    }\n\n    .dataframe tbody tr th {\n        vertical-align: top;\n    }\n\n    .dataframe thead th {\n        text-align: right;\n    }\n</style>\n<table border=\"1\" class=\"dataframe\">\n  <thead>\n    <tr style=\"text-align: right;\">\n      <th></th>\n      <th>country</th>\n    </tr>\n  </thead>\n  <tbody>\n    <tr>\n      <th>10209</th>\n      <td>China</td>\n    </tr>\n    <tr>\n      <th>10251</th>\n      <td>India</td>\n    </tr>\n    <tr>\n      <th>10350</th>\n      <td>United States</td>\n    </tr>\n    <tr>\n      <th>10252</th>\n      <td>Indonesia</td>\n    </tr>\n    <tr>\n      <th>10197</th>\n      <td>Brazil</td>\n    </tr>\n  </tbody>\n</table>\n</div>"
     },
     "metadata": {},
     "execution_count": 9
    }
   ],
   "source": [
    "paises = gap.sort_values(['population'], ascending=False)\n",
    "paises = paises.loc[gap['year'] == 2015, ['country']].head(5)\n",
    "paises"
   ]
  },
  {
   "cell_type": "code",
   "execution_count": 10,
   "metadata": {},
   "outputs": [
    {
     "output_type": "execute_result",
     "data": {
      "text/plain": [
       "           country  year           gdp   population  dollar_day\n",
       "34           China  1960  7.034853e+10  644450173.0    0.299070\n",
       "76           India  1960  8.104265e+10  449661874.0    0.493781\n",
       "77       Indonesia  1960  1.844892e+10   87792512.0    0.575732\n",
       "22          Brazil  1960  1.053434e+11   72493585.0    3.981207\n",
       "175  United States  1960  2.479391e+12  186176524.0   36.486084"
      ],
      "text/html": "<div>\n<style scoped>\n    .dataframe tbody tr th:only-of-type {\n        vertical-align: middle;\n    }\n\n    .dataframe tbody tr th {\n        vertical-align: top;\n    }\n\n    .dataframe thead th {\n        text-align: right;\n    }\n</style>\n<table border=\"1\" class=\"dataframe\">\n  <thead>\n    <tr style=\"text-align: right;\">\n      <th></th>\n      <th>country</th>\n      <th>year</th>\n      <th>gdp</th>\n      <th>population</th>\n      <th>dollar_day</th>\n    </tr>\n  </thead>\n  <tbody>\n    <tr>\n      <th>34</th>\n      <td>China</td>\n      <td>1960</td>\n      <td>7.034853e+10</td>\n      <td>644450173.0</td>\n      <td>0.299070</td>\n    </tr>\n    <tr>\n      <th>76</th>\n      <td>India</td>\n      <td>1960</td>\n      <td>8.104265e+10</td>\n      <td>449661874.0</td>\n      <td>0.493781</td>\n    </tr>\n    <tr>\n      <th>77</th>\n      <td>Indonesia</td>\n      <td>1960</td>\n      <td>1.844892e+10</td>\n      <td>87792512.0</td>\n      <td>0.575732</td>\n    </tr>\n    <tr>\n      <th>22</th>\n      <td>Brazil</td>\n      <td>1960</td>\n      <td>1.053434e+11</td>\n      <td>72493585.0</td>\n      <td>3.981207</td>\n    </tr>\n    <tr>\n      <th>175</th>\n      <td>United States</td>\n      <td>1960</td>\n      <td>2.479391e+12</td>\n      <td>186176524.0</td>\n      <td>36.486084</td>\n    </tr>\n  </tbody>\n</table>\n</div>"
     },
     "metadata": {},
     "execution_count": 10
    }
   ],
   "source": [
    "gap5 = gap[gap['country'].isin(paises['country'])]\n",
    "gap5 = gap5.loc[gap5['year'] == 1960, ['country', 'year', 'gdp', 'population']]\n",
    "gap5['dollar_day'] = gap5['gdp'] / gap5['population'] / 365\n",
    "gap5.sort_values(['dollar_day'])"
   ]
  },
  {
   "cell_type": "markdown",
   "metadata": {},
   "source": [
    "<div id=\"resumo-comandos\"></div>\n",
    "\n",
    "## Resumo dos Comandos\n",
    "\n",
    "Aqui você encontra um resumo dos comandos apresentados neste notebook:\n",
    "\n",
    "- [`dtypes`](#ex1): mostra o tipo de cada variável do *dataframe*.\n",
    "- [`isin`](#ex2): avalia, por exemplo, se conteúdo de uma coluna do *dataframe* faz parte ou não de uma lista.\n",
    "\n",
    "\n"
   ]
  }
 ],
 "metadata": {
  "kernelspec": {
   "name": "python3",
   "display_name": "Python 3.9.2 64-bit",
   "metadata": {
    "interpreter": {
     "hash": "ac59ebe37160ed0dfa835113d9b8498d9f09ceb179beaac4002f036b9467c963"
    }
   }
  },
  "language_info": {
   "codemirror_mode": {
    "name": "ipython",
    "version": 3
   },
   "file_extension": ".py",
   "mimetype": "text/x-python",
   "name": "python",
   "nbconvert_exporter": "python",
   "pygments_lexer": "ipython3",
   "version": "3.9.2-final"
  }
 },
 "nbformat": 4,
 "nbformat_minor": 4
}