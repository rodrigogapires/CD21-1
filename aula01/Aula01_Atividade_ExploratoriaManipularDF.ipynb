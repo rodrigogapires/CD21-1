{
 "cells": [
  {
   "cell_type": "markdown",
   "metadata": {},
   "source": [
    "# Ciência dos Dados - 2021 / Primeiro Semestre\n",
    "\n",
    "## Aula 01 - Atividade Exploratória para Manipular um DataFrame"
   ]
  },
  {
   "cell_type": "markdown",
   "metadata": {},
   "source": [
    "___\n",
    "## Índice\n",
    "\n",
    "- [Introdução](#introducao)\n",
    "    - [Abrindo um arquivo e visualizando seu conteúdo](#abrindo-arquivo)\n",
    "    - [Começando a explorar os dados](#comecando-exploracao)\n",
    "    - [Exercício 1](#ex1)\n",
    "- [Filtrando ou criando novos DataFrame](#filtrando)\n",
    "    - [Selecionando uma variável de um DataFrame](#select1)\n",
    "    - [Selecionando linhas de um DataFrame](#selectlinhas)\n",
    "    - [Selecionando linhas de um DataFrame usando mais de uma condição](#selectlinhas-combinando)\n",
    "    - [Selecionando um subconjunto de um DataFrame](#selectmais)\n",
    "    - [Exercício 2](#ex2)\n",
    "- [Resumo dos comandos](#resumo-comandos)"
   ]
  },
  {
   "cell_type": "markdown",
   "metadata": {},
   "source": [
    "<div id=\"introducao\"></div>\n",
    "\n",
    "___\n",
    "\n",
    "## Introdução\n",
    "\n",
    "A biblioteca [**pandas**](https://pandas.pydata.org/docs/user_guide/index.html) é um conjunto de funções para o Python com intuito de trabalhar com Data Science. Essa biblioteca permite, além de abrir diversos tipos de arquivos, trabalhar também com o ferramental descritivo para responder perguntas sobre seus dados."
   ]
  },
  {
   "cell_type": "code",
   "execution_count": 15,
   "metadata": {},
   "outputs": [],
   "source": [
    "# Importando as bibliotecas necessárias para esta atividade\n",
    "import pandas as pd"
   ]
  },
  {
   "cell_type": "markdown",
   "metadata": {},
   "source": [
    "<div id=\"abrindo-arquivo\"></div>\n",
    "\n",
    "___\n",
    "\n",
    "### Abrindo um arquivo e visualizando seu conteúdo:\n",
    "\n",
    "Vamos começar abrindo um arquivo no formato Excel. \n",
    "\n",
    "Mas vamos verificar ANTES se o arquivo `WorldBank.xlsx` está na mesma pasta que salvou este arquivo notebook (pasta de trabalho). O comando a seguir importa a biblioteca [**os**](https://docs.python.org/pt-br/3/library/os.html) e mostra a pasta de trabalho!"
   ]
  },
  {
   "cell_type": "code",
   "execution_count": 16,
   "metadata": {},
   "outputs": [],
   "source": [
    "# Importando biblioteca para Sistema Operacional\n",
    "import os"
   ]
  },
  {
   "cell_type": "code",
   "execution_count": 17,
   "metadata": {
    "scrolled": true
   },
   "outputs": [
    {
     "output_type": "stream",
     "name": "stdout",
     "text": [
      "Esperamos trabalhar no diretório: \nc:\\Users\\rodrigo\\Desktop\\CD21-1\\aula01\n\n"
     ]
    }
   ],
   "source": [
    "print(f'Esperamos trabalhar no diretório: \\n{os.getcwd()}\\n')"
   ]
  },
  {
   "cell_type": "code",
   "execution_count": 18,
   "metadata": {},
   "outputs": [
    {
     "output_type": "stream",
     "name": "stdout",
     "text": [
      "Parece que o arquivo WorldBank.xlsx está na mesma pasta do notebook, yay!\n"
     ]
    }
   ],
   "source": [
    "filename = 'WorldBank.xlsx'\n",
    "\n",
    "if filename in os.listdir():\n",
    "    print(f'Parece que o arquivo {filename} está na mesma pasta do notebook, yay!')\n",
    "    \n",
    "else:\n",
    "    print(f'Não encontrei o arquivo {filename}')"
   ]
  },
  {
   "cell_type": "markdown",
   "metadata": {},
   "source": [
    "...\n",
    "\n",
    "Os dados contem informações sobre países disponíveis em um dos mais conhecidos databases da Internet: [World Bank](https://data.worldbank.org/).\n",
    "\n",
    "Primeiramente, abra o arquivo e armazene em uma variável!\n",
    "\n",
    "<div id=\"read_excel\"></div>"
   ]
  },
  {
   "cell_type": "code",
   "execution_count": 19,
   "metadata": {},
   "outputs": [],
   "source": [
    "dados = pd.read_excel('WorldBank.xlsx')\n",
    "\n",
    "# Se esse comando não funcionar, pode ser que você não tenha instalado a \n",
    "# biblioteca 'xlrd', leia a mensagem de erro até o fim."
   ]
  },
  {
   "cell_type": "markdown",
   "metadata": {},
   "source": [
    "Vamos ver quais informações estão disponíveis neste arquivo:"
   ]
  },
  {
   "cell_type": "code",
   "execution_count": 20,
   "metadata": {},
   "outputs": [
    {
     "output_type": "execute_result",
     "data": {
      "text/plain": [
       "                 Country  Population     GDPcapita  surface  \\\n",
       "0                Albania     2901883   1915.424459    28750   \n",
       "1                Algeria    36036159   2231.980246  2381740   \n",
       "2                 Angola    21219954    623.245275  1246700   \n",
       "3    Antigua and Barbuda       87233  10614.794315      440   \n",
       "4              Argentina    41222875  10749.319224  2780400   \n",
       "..                   ...         ...           ...      ...   \n",
       "163              Vanuatu      236299   1522.384040    12190   \n",
       "164            Venezuela    28995745   5528.363114   912050   \n",
       "165              Vietnam    88357775    722.810053   331050   \n",
       "166               Zambia    13917439    434.659804   752610   \n",
       "167             Zimbabwe    13973897    322.556928   390760   \n",
       "\n",
       "                 region  landlocked  \n",
       "0           europe_east           0  \n",
       "1          africa_north           0  \n",
       "2    africa_sub_saharan           0  \n",
       "3         america_north           0  \n",
       "4         america_south           0  \n",
       "..                  ...         ...  \n",
       "163   east_asia_pacific           0  \n",
       "164       america_south           0  \n",
       "165   east_asia_pacific           0  \n",
       "166  africa_sub_saharan           1  \n",
       "167  africa_sub_saharan           1  \n",
       "\n",
       "[168 rows x 6 columns]"
      ],
      "text/html": "<div>\n<style scoped>\n    .dataframe tbody tr th:only-of-type {\n        vertical-align: middle;\n    }\n\n    .dataframe tbody tr th {\n        vertical-align: top;\n    }\n\n    .dataframe thead th {\n        text-align: right;\n    }\n</style>\n<table border=\"1\" class=\"dataframe\">\n  <thead>\n    <tr style=\"text-align: right;\">\n      <th></th>\n      <th>Country</th>\n      <th>Population</th>\n      <th>GDPcapita</th>\n      <th>surface</th>\n      <th>region</th>\n      <th>landlocked</th>\n    </tr>\n  </thead>\n  <tbody>\n    <tr>\n      <th>0</th>\n      <td>Albania</td>\n      <td>2901883</td>\n      <td>1915.424459</td>\n      <td>28750</td>\n      <td>europe_east</td>\n      <td>0</td>\n    </tr>\n    <tr>\n      <th>1</th>\n      <td>Algeria</td>\n      <td>36036159</td>\n      <td>2231.980246</td>\n      <td>2381740</td>\n      <td>africa_north</td>\n      <td>0</td>\n    </tr>\n    <tr>\n      <th>2</th>\n      <td>Angola</td>\n      <td>21219954</td>\n      <td>623.245275</td>\n      <td>1246700</td>\n      <td>africa_sub_saharan</td>\n      <td>0</td>\n    </tr>\n    <tr>\n      <th>3</th>\n      <td>Antigua and Barbuda</td>\n      <td>87233</td>\n      <td>10614.794315</td>\n      <td>440</td>\n      <td>america_north</td>\n      <td>0</td>\n    </tr>\n    <tr>\n      <th>4</th>\n      <td>Argentina</td>\n      <td>41222875</td>\n      <td>10749.319224</td>\n      <td>2780400</td>\n      <td>america_south</td>\n      <td>0</td>\n    </tr>\n    <tr>\n      <th>...</th>\n      <td>...</td>\n      <td>...</td>\n      <td>...</td>\n      <td>...</td>\n      <td>...</td>\n      <td>...</td>\n    </tr>\n    <tr>\n      <th>163</th>\n      <td>Vanuatu</td>\n      <td>236299</td>\n      <td>1522.384040</td>\n      <td>12190</td>\n      <td>east_asia_pacific</td>\n      <td>0</td>\n    </tr>\n    <tr>\n      <th>164</th>\n      <td>Venezuela</td>\n      <td>28995745</td>\n      <td>5528.363114</td>\n      <td>912050</td>\n      <td>america_south</td>\n      <td>0</td>\n    </tr>\n    <tr>\n      <th>165</th>\n      <td>Vietnam</td>\n      <td>88357775</td>\n      <td>722.810053</td>\n      <td>331050</td>\n      <td>east_asia_pacific</td>\n      <td>0</td>\n    </tr>\n    <tr>\n      <th>166</th>\n      <td>Zambia</td>\n      <td>13917439</td>\n      <td>434.659804</td>\n      <td>752610</td>\n      <td>africa_sub_saharan</td>\n      <td>1</td>\n    </tr>\n    <tr>\n      <th>167</th>\n      <td>Zimbabwe</td>\n      <td>13973897</td>\n      <td>322.556928</td>\n      <td>390760</td>\n      <td>africa_sub_saharan</td>\n      <td>1</td>\n    </tr>\n  </tbody>\n</table>\n<p>168 rows × 6 columns</p>\n</div>"
     },
     "metadata": {},
     "execution_count": 20
    }
   ],
   "source": [
    "dados"
   ]
  },
  {
   "cell_type": "code",
   "execution_count": 21,
   "metadata": {},
   "outputs": [
    {
     "output_type": "execute_result",
     "data": {
      "text/plain": [
       "(168, 6)"
      ]
     },
     "metadata": {},
     "execution_count": 21
    }
   ],
   "source": [
    "dados.shape"
   ]
  },
  {
   "cell_type": "markdown",
   "metadata": {},
   "source": [
    "...\n",
    "\n",
    "Agora `dados` é uma variável do tipo `DataFrame`, o tipo padrão usado no pandas para representar uma tabela. Podemos ver em **negrito** à esquerda o índice de cada linha e acima os nomes das colunas. Depois de imprimir a tabela o pandas também mostra a quantidade de linhas (168) e colunas (6) disponíveis.\n",
    "\n",
    "Antes de prosseguir, vamos garantir que sabemos o que cada uma das colunas significa:\n",
    "\n",
    "- **Country**: nome do país;\n",
    "- **Population**: população;\n",
    "- **GDPcapita**: PIB per capita;\n",
    "- **surface**: área total em km$^2$;\n",
    "- **region**: região;\n",
    "- **landlocked**: sem litoral (0=com litoral; 1=sem litoral).\n",
    "\n",
    "Voltando ao nosso `DataFrame`, você notou que ele não imprimiu todas as linhas? Isso acontece porque o conjunto de dados pode ser **muito** grande. No nosso caso só queríamos ter uma ideia de quais dados estão disponíveis, então não precisávamos ver todas as linhas. Talvez seria interessante ver até menos do que isso.\n",
    "\n",
    "Para ver somente as primeiras linhas podemos usar o comando `.head()`:\n",
    "\n",
    "<div id=\"head\"></div>"
   ]
  },
  {
   "cell_type": "code",
   "execution_count": 22,
   "metadata": {
    "scrolled": true
   },
   "outputs": [
    {
     "output_type": "execute_result",
     "data": {
      "text/plain": [
       "               Country  Population     GDPcapita  surface              region  \\\n",
       "0              Albania     2901883   1915.424459    28750         europe_east   \n",
       "1              Algeria    36036159   2231.980246  2381740        africa_north   \n",
       "2               Angola    21219954    623.245275  1246700  africa_sub_saharan   \n",
       "3  Antigua and Barbuda       87233  10614.794315      440       america_north   \n",
       "4            Argentina    41222875  10749.319224  2780400       america_south   \n",
       "\n",
       "   landlocked  \n",
       "0           0  \n",
       "1           0  \n",
       "2           0  \n",
       "3           0  \n",
       "4           0  "
      ],
      "text/html": "<div>\n<style scoped>\n    .dataframe tbody tr th:only-of-type {\n        vertical-align: middle;\n    }\n\n    .dataframe tbody tr th {\n        vertical-align: top;\n    }\n\n    .dataframe thead th {\n        text-align: right;\n    }\n</style>\n<table border=\"1\" class=\"dataframe\">\n  <thead>\n    <tr style=\"text-align: right;\">\n      <th></th>\n      <th>Country</th>\n      <th>Population</th>\n      <th>GDPcapita</th>\n      <th>surface</th>\n      <th>region</th>\n      <th>landlocked</th>\n    </tr>\n  </thead>\n  <tbody>\n    <tr>\n      <th>0</th>\n      <td>Albania</td>\n      <td>2901883</td>\n      <td>1915.424459</td>\n      <td>28750</td>\n      <td>europe_east</td>\n      <td>0</td>\n    </tr>\n    <tr>\n      <th>1</th>\n      <td>Algeria</td>\n      <td>36036159</td>\n      <td>2231.980246</td>\n      <td>2381740</td>\n      <td>africa_north</td>\n      <td>0</td>\n    </tr>\n    <tr>\n      <th>2</th>\n      <td>Angola</td>\n      <td>21219954</td>\n      <td>623.245275</td>\n      <td>1246700</td>\n      <td>africa_sub_saharan</td>\n      <td>0</td>\n    </tr>\n    <tr>\n      <th>3</th>\n      <td>Antigua and Barbuda</td>\n      <td>87233</td>\n      <td>10614.794315</td>\n      <td>440</td>\n      <td>america_north</td>\n      <td>0</td>\n    </tr>\n    <tr>\n      <th>4</th>\n      <td>Argentina</td>\n      <td>41222875</td>\n      <td>10749.319224</td>\n      <td>2780400</td>\n      <td>america_south</td>\n      <td>0</td>\n    </tr>\n  </tbody>\n</table>\n</div>"
     },
     "metadata": {},
     "execution_count": 22
    }
   ],
   "source": [
    "dados.head()"
   ]
  },
  {
   "cell_type": "code",
   "execution_count": 23,
   "metadata": {
    "scrolled": true
   },
   "outputs": [
    {
     "output_type": "execute_result",
     "data": {
      "text/plain": [
       "pandas.core.indexes.base.Index"
      ]
     },
     "metadata": {},
     "execution_count": 23
    }
   ],
   "source": [
    "type(dados.columns)"
   ]
  },
  {
   "cell_type": "code",
   "execution_count": 24,
   "metadata": {},
   "outputs": [
    {
     "output_type": "execute_result",
     "data": {
      "text/plain": [
       "['Country', 'Population', 'GDPcapita', 'surface', 'region', 'landlocked']"
      ]
     },
     "metadata": {},
     "execution_count": 24
    }
   ],
   "source": [
    "list(dados)"
   ]
  },
  {
   "cell_type": "code",
   "execution_count": 25,
   "metadata": {},
   "outputs": [
    {
     "output_type": "execute_result",
     "data": {
      "text/plain": [
       "list"
      ]
     },
     "metadata": {},
     "execution_count": 25
    }
   ],
   "source": [
    "type(list(dados))"
   ]
  },
  {
   "cell_type": "markdown",
   "metadata": {},
   "source": [
    "Você pode especificar mais ou menos linhas passando um número como argumento:"
   ]
  },
  {
   "cell_type": "code",
   "execution_count": 26,
   "metadata": {},
   "outputs": [
    {
     "output_type": "execute_result",
     "data": {
      "text/plain": [
       "               Country  Population     GDPcapita  surface              region  \\\n",
       "0              Albania     2901883   1915.424459    28750         europe_east   \n",
       "1              Algeria    36036159   2231.980246  2381740        africa_north   \n",
       "2               Angola    21219954    623.245275  1246700  africa_sub_saharan   \n",
       "3  Antigua and Barbuda       87233  10614.794315      440       america_north   \n",
       "4            Argentina    41222875  10749.319224  2780400       america_south   \n",
       "5              Armenia     2963496   1326.710864    29740         europe_east   \n",
       "6            Australia    22162863  25190.839860  7741220   east_asia_pacific   \n",
       "7              Austria     8391986  26642.993858    83870         europe_west   \n",
       "8           Azerbaijan     9099893   2344.810935    86600         europe_east   \n",
       "9              Bahamas      360830  19395.152312    13880       america_north   \n",
       "\n",
       "   landlocked  \n",
       "0           0  \n",
       "1           0  \n",
       "2           0  \n",
       "3           0  \n",
       "4           0  \n",
       "5           1  \n",
       "6           0  \n",
       "7           1  \n",
       "8           1  \n",
       "9           0  "
      ],
      "text/html": "<div>\n<style scoped>\n    .dataframe tbody tr th:only-of-type {\n        vertical-align: middle;\n    }\n\n    .dataframe tbody tr th {\n        vertical-align: top;\n    }\n\n    .dataframe thead th {\n        text-align: right;\n    }\n</style>\n<table border=\"1\" class=\"dataframe\">\n  <thead>\n    <tr style=\"text-align: right;\">\n      <th></th>\n      <th>Country</th>\n      <th>Population</th>\n      <th>GDPcapita</th>\n      <th>surface</th>\n      <th>region</th>\n      <th>landlocked</th>\n    </tr>\n  </thead>\n  <tbody>\n    <tr>\n      <th>0</th>\n      <td>Albania</td>\n      <td>2901883</td>\n      <td>1915.424459</td>\n      <td>28750</td>\n      <td>europe_east</td>\n      <td>0</td>\n    </tr>\n    <tr>\n      <th>1</th>\n      <td>Algeria</td>\n      <td>36036159</td>\n      <td>2231.980246</td>\n      <td>2381740</td>\n      <td>africa_north</td>\n      <td>0</td>\n    </tr>\n    <tr>\n      <th>2</th>\n      <td>Angola</td>\n      <td>21219954</td>\n      <td>623.245275</td>\n      <td>1246700</td>\n      <td>africa_sub_saharan</td>\n      <td>0</td>\n    </tr>\n    <tr>\n      <th>3</th>\n      <td>Antigua and Barbuda</td>\n      <td>87233</td>\n      <td>10614.794315</td>\n      <td>440</td>\n      <td>america_north</td>\n      <td>0</td>\n    </tr>\n    <tr>\n      <th>4</th>\n      <td>Argentina</td>\n      <td>41222875</td>\n      <td>10749.319224</td>\n      <td>2780400</td>\n      <td>america_south</td>\n      <td>0</td>\n    </tr>\n    <tr>\n      <th>5</th>\n      <td>Armenia</td>\n      <td>2963496</td>\n      <td>1326.710864</td>\n      <td>29740</td>\n      <td>europe_east</td>\n      <td>1</td>\n    </tr>\n    <tr>\n      <th>6</th>\n      <td>Australia</td>\n      <td>22162863</td>\n      <td>25190.839860</td>\n      <td>7741220</td>\n      <td>east_asia_pacific</td>\n      <td>0</td>\n    </tr>\n    <tr>\n      <th>7</th>\n      <td>Austria</td>\n      <td>8391986</td>\n      <td>26642.993858</td>\n      <td>83870</td>\n      <td>europe_west</td>\n      <td>1</td>\n    </tr>\n    <tr>\n      <th>8</th>\n      <td>Azerbaijan</td>\n      <td>9099893</td>\n      <td>2344.810935</td>\n      <td>86600</td>\n      <td>europe_east</td>\n      <td>1</td>\n    </tr>\n    <tr>\n      <th>9</th>\n      <td>Bahamas</td>\n      <td>360830</td>\n      <td>19395.152312</td>\n      <td>13880</td>\n      <td>america_north</td>\n      <td>0</td>\n    </tr>\n  </tbody>\n</table>\n</div>"
     },
     "metadata": {},
     "execution_count": 26
    }
   ],
   "source": [
    "dados.head(10)"
   ]
  },
  {
   "cell_type": "markdown",
   "metadata": {},
   "source": [
    "Se preferir, podemos ver as últimas linhas com o comando `.tail()`, que também pode receber a quantidade de linhas:\n",
    "\n",
    "<div id=\"tail\"></div>"
   ]
  },
  {
   "cell_type": "code",
   "execution_count": 27,
   "metadata": {},
   "outputs": [
    {
     "output_type": "execute_result",
     "data": {
      "text/plain": [
       "      Country  Population   GDPcapita  surface              region  landlocked\n",
       "165   Vietnam    88357775  722.810053   331050   east_asia_pacific           0\n",
       "166    Zambia    13917439  434.659804   752610  africa_sub_saharan           1\n",
       "167  Zimbabwe    13973897  322.556928   390760  africa_sub_saharan           1"
      ],
      "text/html": "<div>\n<style scoped>\n    .dataframe tbody tr th:only-of-type {\n        vertical-align: middle;\n    }\n\n    .dataframe tbody tr th {\n        vertical-align: top;\n    }\n\n    .dataframe thead th {\n        text-align: right;\n    }\n</style>\n<table border=\"1\" class=\"dataframe\">\n  <thead>\n    <tr style=\"text-align: right;\">\n      <th></th>\n      <th>Country</th>\n      <th>Population</th>\n      <th>GDPcapita</th>\n      <th>surface</th>\n      <th>region</th>\n      <th>landlocked</th>\n    </tr>\n  </thead>\n  <tbody>\n    <tr>\n      <th>165</th>\n      <td>Vietnam</td>\n      <td>88357775</td>\n      <td>722.810053</td>\n      <td>331050</td>\n      <td>east_asia_pacific</td>\n      <td>0</td>\n    </tr>\n    <tr>\n      <th>166</th>\n      <td>Zambia</td>\n      <td>13917439</td>\n      <td>434.659804</td>\n      <td>752610</td>\n      <td>africa_sub_saharan</td>\n      <td>1</td>\n    </tr>\n    <tr>\n      <th>167</th>\n      <td>Zimbabwe</td>\n      <td>13973897</td>\n      <td>322.556928</td>\n      <td>390760</td>\n      <td>africa_sub_saharan</td>\n      <td>1</td>\n    </tr>\n  </tbody>\n</table>\n</div>"
     },
     "metadata": {},
     "execution_count": 27
    }
   ],
   "source": [
    "dados.tail(3)"
   ]
  },
  {
   "cell_type": "markdown",
   "metadata": {},
   "source": [
    "<div id=\"comecando-exploracao\"></div>\n",
    "\n",
    "### Começando a explorar os dados\n",
    "\n",
    "A princípio as informações apresentadas nas últimas células não parecem muito úteis. São simplesmente as primeiras ou últimas linhas de uma tabela na qual as linhas estão em ordem alfabética do nome dos países. Mas esses comandos podem se tornar mais úteis se os combinarmos com outras operações.\n",
    "\n",
    "Suponha que ao invés da ordem pelo nome dos países o `DataFrame` estivesse ordenado pelo tamanho da população. Nesse caso, as 5 primeiras linhas seriam os 5 países com menor população. Para obter esta informação vamos tentar utilizar o comando `sort_values`.\n",
    "\n",
    "<div id=\"sort_values\"></div>"
   ]
  },
  {
   "cell_type": "code",
   "execution_count": 28,
   "metadata": {},
   "outputs": [
    {
     "output_type": "error",
     "ename": "TypeError",
     "evalue": "sort_values() missing 1 required positional argument: 'by'",
     "traceback": [
      "\u001b[1;31m---------------------------------------------------------------------------\u001b[0m",
      "\u001b[1;31mTypeError\u001b[0m                                 Traceback (most recent call last)",
      "\u001b[1;32m<ipython-input-28-bbd21c75a1b3>\u001b[0m in \u001b[0;36m<module>\u001b[1;34m\u001b[0m\n\u001b[1;32m----> 1\u001b[1;33m \u001b[0mdados\u001b[0m\u001b[1;33m.\u001b[0m\u001b[0msort_values\u001b[0m\u001b[1;33m(\u001b[0m\u001b[1;33m)\u001b[0m\u001b[1;33m\u001b[0m\u001b[1;33m\u001b[0m\u001b[0m\n\u001b[0m",
      "\u001b[1;31mTypeError\u001b[0m: sort_values() missing 1 required positional argument: 'by'"
     ]
    }
   ],
   "source": [
    "dados.sort_values()"
   ]
  },
  {
   "cell_type": "markdown",
   "metadata": {},
   "source": [
    "A célula acima não funcionou, mas a mensagem de erro nos dá uma dica: está faltando um argumento para a função `sort_values`. Vamos refletir sobre o que queremos fazer. Queremos a tabela armazenada em `dados` ordenada, mas ordenada utilizando qual critério? É para isso que precisamos desse argumento adicional `by`. Devemos indicar qual coluna deve ser utilizada como critério de ordenação:"
   ]
  },
  {
   "cell_type": "code",
   "execution_count": 31,
   "metadata": {},
   "outputs": [
    {
     "output_type": "execute_result",
     "data": {
      "text/plain": [
       "                 Country  Population     GDPcapita  surface  \\\n",
       "155               Tuvalu        9827   1559.983698       30   \n",
       "114                Palau       20470   5756.810516      460   \n",
       "94      Marshall Islands       52428   2437.282445      180   \n",
       "42              Dominica       71167   6529.529633      750   \n",
       "3    Antigua and Barbuda       87233  10614.794315      440   \n",
       "..                   ...         ...           ...      ...   \n",
       "20                Brazil   198614208   4716.614125  8514880   \n",
       "70             Indonesia   241613126   1145.385435  1904570   \n",
       "160        United States   309876170  37329.615914  9831510   \n",
       "69                 India  1230984504    794.801256  3287260   \n",
       "31                 China  1340968737   2426.332466  9600000   \n",
       "\n",
       "                region  landlocked  \n",
       "155  east_asia_pacific           0  \n",
       "114  east_asia_pacific           0  \n",
       "94   east_asia_pacific           0  \n",
       "42       america_north           0  \n",
       "3        america_north           0  \n",
       "..                 ...         ...  \n",
       "20       america_south           0  \n",
       "70   east_asia_pacific           0  \n",
       "160      america_north           0  \n",
       "69           asia_west           0  \n",
       "31   east_asia_pacific           0  \n",
       "\n",
       "[168 rows x 6 columns]"
      ],
      "text/html": "<div>\n<style scoped>\n    .dataframe tbody tr th:only-of-type {\n        vertical-align: middle;\n    }\n\n    .dataframe tbody tr th {\n        vertical-align: top;\n    }\n\n    .dataframe thead th {\n        text-align: right;\n    }\n</style>\n<table border=\"1\" class=\"dataframe\">\n  <thead>\n    <tr style=\"text-align: right;\">\n      <th></th>\n      <th>Country</th>\n      <th>Population</th>\n      <th>GDPcapita</th>\n      <th>surface</th>\n      <th>region</th>\n      <th>landlocked</th>\n    </tr>\n  </thead>\n  <tbody>\n    <tr>\n      <th>155</th>\n      <td>Tuvalu</td>\n      <td>9827</td>\n      <td>1559.983698</td>\n      <td>30</td>\n      <td>east_asia_pacific</td>\n      <td>0</td>\n    </tr>\n    <tr>\n      <th>114</th>\n      <td>Palau</td>\n      <td>20470</td>\n      <td>5756.810516</td>\n      <td>460</td>\n      <td>east_asia_pacific</td>\n      <td>0</td>\n    </tr>\n    <tr>\n      <th>94</th>\n      <td>Marshall Islands</td>\n      <td>52428</td>\n      <td>2437.282445</td>\n      <td>180</td>\n      <td>east_asia_pacific</td>\n      <td>0</td>\n    </tr>\n    <tr>\n      <th>42</th>\n      <td>Dominica</td>\n      <td>71167</td>\n      <td>6529.529633</td>\n      <td>750</td>\n      <td>america_north</td>\n      <td>0</td>\n    </tr>\n    <tr>\n      <th>3</th>\n      <td>Antigua and Barbuda</td>\n      <td>87233</td>\n      <td>10614.794315</td>\n      <td>440</td>\n      <td>america_north</td>\n      <td>0</td>\n    </tr>\n    <tr>\n      <th>...</th>\n      <td>...</td>\n      <td>...</td>\n      <td>...</td>\n      <td>...</td>\n      <td>...</td>\n      <td>...</td>\n    </tr>\n    <tr>\n      <th>20</th>\n      <td>Brazil</td>\n      <td>198614208</td>\n      <td>4716.614125</td>\n      <td>8514880</td>\n      <td>america_south</td>\n      <td>0</td>\n    </tr>\n    <tr>\n      <th>70</th>\n      <td>Indonesia</td>\n      <td>241613126</td>\n      <td>1145.385435</td>\n      <td>1904570</td>\n      <td>east_asia_pacific</td>\n      <td>0</td>\n    </tr>\n    <tr>\n      <th>160</th>\n      <td>United States</td>\n      <td>309876170</td>\n      <td>37329.615914</td>\n      <td>9831510</td>\n      <td>america_north</td>\n      <td>0</td>\n    </tr>\n    <tr>\n      <th>69</th>\n      <td>India</td>\n      <td>1230984504</td>\n      <td>794.801256</td>\n      <td>3287260</td>\n      <td>asia_west</td>\n      <td>0</td>\n    </tr>\n    <tr>\n      <th>31</th>\n      <td>China</td>\n      <td>1340968737</td>\n      <td>2426.332466</td>\n      <td>9600000</td>\n      <td>east_asia_pacific</td>\n      <td>0</td>\n    </tr>\n  </tbody>\n</table>\n<p>168 rows × 6 columns</p>\n</div>"
     },
     "metadata": {},
     "execution_count": 31
    }
   ],
   "source": [
    "dados.sort_values(['Population'])  # Equivalente a: dados.sort_values(by='Population')"
   ]
  },
  {
   "cell_type": "markdown",
   "metadata": {},
   "source": [
    "**Importante:** a operação da célula anterior **não** modifica o `DataFrame` original. Para comprovar, vamos verificar que `dados` ainda está em ordem alfabética:"
   ]
  },
  {
   "cell_type": "markdown",
   "metadata": {},
   "source": [
    "Mas então, o que aconteceu? Ao executar o `sort_values` um *novo* `DataFrame` é devolvido. Podemos então utilizar o comando `.head()` neste novo `DataFrame` para visualizar os 5 países menos populosos:"
   ]
  },
  {
   "cell_type": "code",
   "execution_count": 32,
   "metadata": {
    "scrolled": false
   },
   "outputs": [
    {
     "output_type": "execute_result",
     "data": {
      "text/plain": [
       "                 Country  Population     GDPcapita  surface  \\\n",
       "155               Tuvalu        9827   1559.983698       30   \n",
       "114                Palau       20470   5756.810516      460   \n",
       "94      Marshall Islands       52428   2437.282445      180   \n",
       "42              Dominica       71167   6529.529633      750   \n",
       "3    Antigua and Barbuda       87233  10614.794315      440   \n",
       "\n",
       "                region  landlocked  \n",
       "155  east_asia_pacific           0  \n",
       "114  east_asia_pacific           0  \n",
       "94   east_asia_pacific           0  \n",
       "42       america_north           0  \n",
       "3        america_north           0  "
      ],
      "text/html": "<div>\n<style scoped>\n    .dataframe tbody tr th:only-of-type {\n        vertical-align: middle;\n    }\n\n    .dataframe tbody tr th {\n        vertical-align: top;\n    }\n\n    .dataframe thead th {\n        text-align: right;\n    }\n</style>\n<table border=\"1\" class=\"dataframe\">\n  <thead>\n    <tr style=\"text-align: right;\">\n      <th></th>\n      <th>Country</th>\n      <th>Population</th>\n      <th>GDPcapita</th>\n      <th>surface</th>\n      <th>region</th>\n      <th>landlocked</th>\n    </tr>\n  </thead>\n  <tbody>\n    <tr>\n      <th>155</th>\n      <td>Tuvalu</td>\n      <td>9827</td>\n      <td>1559.983698</td>\n      <td>30</td>\n      <td>east_asia_pacific</td>\n      <td>0</td>\n    </tr>\n    <tr>\n      <th>114</th>\n      <td>Palau</td>\n      <td>20470</td>\n      <td>5756.810516</td>\n      <td>460</td>\n      <td>east_asia_pacific</td>\n      <td>0</td>\n    </tr>\n    <tr>\n      <th>94</th>\n      <td>Marshall Islands</td>\n      <td>52428</td>\n      <td>2437.282445</td>\n      <td>180</td>\n      <td>east_asia_pacific</td>\n      <td>0</td>\n    </tr>\n    <tr>\n      <th>42</th>\n      <td>Dominica</td>\n      <td>71167</td>\n      <td>6529.529633</td>\n      <td>750</td>\n      <td>america_north</td>\n      <td>0</td>\n    </tr>\n    <tr>\n      <th>3</th>\n      <td>Antigua and Barbuda</td>\n      <td>87233</td>\n      <td>10614.794315</td>\n      <td>440</td>\n      <td>america_north</td>\n      <td>0</td>\n    </tr>\n  </tbody>\n</table>\n</div>"
     },
     "metadata": {},
     "execution_count": 32
    }
   ],
   "source": [
    "dados_ordenados_por_população = dados.sort_values(by='Population')\n",
    "dados_ordenados_por_população.head(5)"
   ]
  },
  {
   "cell_type": "markdown",
   "metadata": {},
   "source": [
    "Podemos até evitar a criação de uma nova variável e simplesmente encadear os comandos `.sort_values()` e `.head()` em uma linha só! Isso é um padrão comum de escrita de código quando usamos Pandas."
   ]
  },
  {
   "cell_type": "code",
   "execution_count": 33,
   "metadata": {
    "scrolled": false
   },
   "outputs": [
    {
     "output_type": "execute_result",
     "data": {
      "text/plain": [
       "                 Country  Population     GDPcapita  surface  \\\n",
       "155               Tuvalu        9827   1559.983698       30   \n",
       "114                Palau       20470   5756.810516      460   \n",
       "94      Marshall Islands       52428   2437.282445      180   \n",
       "42              Dominica       71167   6529.529633      750   \n",
       "3    Antigua and Barbuda       87233  10614.794315      440   \n",
       "\n",
       "                region  landlocked  \n",
       "155  east_asia_pacific           0  \n",
       "114  east_asia_pacific           0  \n",
       "94   east_asia_pacific           0  \n",
       "42       america_north           0  \n",
       "3        america_north           0  "
      ],
      "text/html": "<div>\n<style scoped>\n    .dataframe tbody tr th:only-of-type {\n        vertical-align: middle;\n    }\n\n    .dataframe tbody tr th {\n        vertical-align: top;\n    }\n\n    .dataframe thead th {\n        text-align: right;\n    }\n</style>\n<table border=\"1\" class=\"dataframe\">\n  <thead>\n    <tr style=\"text-align: right;\">\n      <th></th>\n      <th>Country</th>\n      <th>Population</th>\n      <th>GDPcapita</th>\n      <th>surface</th>\n      <th>region</th>\n      <th>landlocked</th>\n    </tr>\n  </thead>\n  <tbody>\n    <tr>\n      <th>155</th>\n      <td>Tuvalu</td>\n      <td>9827</td>\n      <td>1559.983698</td>\n      <td>30</td>\n      <td>east_asia_pacific</td>\n      <td>0</td>\n    </tr>\n    <tr>\n      <th>114</th>\n      <td>Palau</td>\n      <td>20470</td>\n      <td>5756.810516</td>\n      <td>460</td>\n      <td>east_asia_pacific</td>\n      <td>0</td>\n    </tr>\n    <tr>\n      <th>94</th>\n      <td>Marshall Islands</td>\n      <td>52428</td>\n      <td>2437.282445</td>\n      <td>180</td>\n      <td>east_asia_pacific</td>\n      <td>0</td>\n    </tr>\n    <tr>\n      <th>42</th>\n      <td>Dominica</td>\n      <td>71167</td>\n      <td>6529.529633</td>\n      <td>750</td>\n      <td>america_north</td>\n      <td>0</td>\n    </tr>\n    <tr>\n      <th>3</th>\n      <td>Antigua and Barbuda</td>\n      <td>87233</td>\n      <td>10614.794315</td>\n      <td>440</td>\n      <td>america_north</td>\n      <td>0</td>\n    </tr>\n  </tbody>\n</table>\n</div>"
     },
     "metadata": {},
     "execution_count": 33
    }
   ],
   "source": [
    "dados.sort_values(by='Population').head(5)"
   ]
  },
  {
   "cell_type": "markdown",
   "metadata": {},
   "source": [
    "<div id=\"ex1\"></div>\n",
    "\n",
    "___\n",
    "\n",
    "### EXERCÍCIO 1\n",
    "\n",
    "Liste os 10 países mais ricos utilizando o PIB per capita. Dica: leia a documentação da função `sort_values` do pandas."
   ]
  },
  {
   "cell_type": "code",
   "execution_count": 34,
   "metadata": {},
   "outputs": [
    {
     "output_type": "execute_result",
     "data": {
      "text/plain": [
       "              Country  Population     GDPcapita  surface             region  \\\n",
       "86         Luxembourg      507889  52222.576674     2590        europe_west   \n",
       "75              Japan   127319802  39971.787453   377940  east_asia_pacific   \n",
       "111            Norway     4891251  39970.292528   323780        europe_west   \n",
       "143       Switzerland     7830534  38826.842983    41280        europe_west   \n",
       "160     United States   309876170  37329.615914  9831510      america_north   \n",
       "66   Hong Kong, China     6993570  36207.706219     1092  east_asia_pacific   \n",
       "68            Iceland      318042  33943.118533   103000        europe_west   \n",
       "132         Singapore     5078961  32640.684416      710  east_asia_pacific   \n",
       "142            Sweden     9382297  32631.192705   450300        europe_west   \n",
       "122             Qatar     1765513  32356.407575    11590          asia_west   \n",
       "\n",
       "     landlocked  \n",
       "86            1  \n",
       "75            0  \n",
       "111           0  \n",
       "143           1  \n",
       "160           0  \n",
       "66            0  \n",
       "68            0  \n",
       "132           0  \n",
       "142           0  \n",
       "122           0  "
      ],
      "text/html": "<div>\n<style scoped>\n    .dataframe tbody tr th:only-of-type {\n        vertical-align: middle;\n    }\n\n    .dataframe tbody tr th {\n        vertical-align: top;\n    }\n\n    .dataframe thead th {\n        text-align: right;\n    }\n</style>\n<table border=\"1\" class=\"dataframe\">\n  <thead>\n    <tr style=\"text-align: right;\">\n      <th></th>\n      <th>Country</th>\n      <th>Population</th>\n      <th>GDPcapita</th>\n      <th>surface</th>\n      <th>region</th>\n      <th>landlocked</th>\n    </tr>\n  </thead>\n  <tbody>\n    <tr>\n      <th>86</th>\n      <td>Luxembourg</td>\n      <td>507889</td>\n      <td>52222.576674</td>\n      <td>2590</td>\n      <td>europe_west</td>\n      <td>1</td>\n    </tr>\n    <tr>\n      <th>75</th>\n      <td>Japan</td>\n      <td>127319802</td>\n      <td>39971.787453</td>\n      <td>377940</td>\n      <td>east_asia_pacific</td>\n      <td>0</td>\n    </tr>\n    <tr>\n      <th>111</th>\n      <td>Norway</td>\n      <td>4891251</td>\n      <td>39970.292528</td>\n      <td>323780</td>\n      <td>europe_west</td>\n      <td>0</td>\n    </tr>\n    <tr>\n      <th>143</th>\n      <td>Switzerland</td>\n      <td>7830534</td>\n      <td>38826.842983</td>\n      <td>41280</td>\n      <td>europe_west</td>\n      <td>1</td>\n    </tr>\n    <tr>\n      <th>160</th>\n      <td>United States</td>\n      <td>309876170</td>\n      <td>37329.615914</td>\n      <td>9831510</td>\n      <td>america_north</td>\n      <td>0</td>\n    </tr>\n    <tr>\n      <th>66</th>\n      <td>Hong Kong, China</td>\n      <td>6993570</td>\n      <td>36207.706219</td>\n      <td>1092</td>\n      <td>east_asia_pacific</td>\n      <td>0</td>\n    </tr>\n    <tr>\n      <th>68</th>\n      <td>Iceland</td>\n      <td>318042</td>\n      <td>33943.118533</td>\n      <td>103000</td>\n      <td>europe_west</td>\n      <td>0</td>\n    </tr>\n    <tr>\n      <th>132</th>\n      <td>Singapore</td>\n      <td>5078961</td>\n      <td>32640.684416</td>\n      <td>710</td>\n      <td>east_asia_pacific</td>\n      <td>0</td>\n    </tr>\n    <tr>\n      <th>142</th>\n      <td>Sweden</td>\n      <td>9382297</td>\n      <td>32631.192705</td>\n      <td>450300</td>\n      <td>europe_west</td>\n      <td>0</td>\n    </tr>\n    <tr>\n      <th>122</th>\n      <td>Qatar</td>\n      <td>1765513</td>\n      <td>32356.407575</td>\n      <td>11590</td>\n      <td>asia_west</td>\n      <td>0</td>\n    </tr>\n  </tbody>\n</table>\n</div>"
     },
     "metadata": {},
     "execution_count": 34
    }
   ],
   "source": [
    "dados.sort_values(['GDPcapita'],ascending=False)"
   ]
  },
  {
   "cell_type": "markdown",
   "metadata": {},
   "source": [
    "<div id=\"filtrando\"></div>\n",
    "\n",
    "___\n",
    "\n",
    "## Filtrando ou criando novos DataFrame\n",
    "\n"
   ]
  },
  {
   "cell_type": "markdown",
   "metadata": {},
   "source": [
    "<div id=\"select1\"></div>\n",
    "\n",
    "### Selecionando uma variável de um DataFrame\n",
    "\n",
    "Suponha que haja o interesse em trabalhar apenas com a variável `region` - podemos estar interessados em *estatísticas* acerca desta variável, ou talvez quiséssemos montar uma lista impressa das regiões. Como separar apenas essa variável?\n",
    "\n",
    "No Pandas, cada coluna de um `DataFrame` é chamada de `Series`. O `DataFrame` é como uma coleção de `Series` que são indexadas pelo nome da coluna, como se fosse um *dicionário* do Python. Inclusive podemos extrair nossa `Series` do nosso `DataFrame` usando a notação de dicionário!"
   ]
  },
  {
   "cell_type": "code",
   "execution_count": 35,
   "metadata": {},
   "outputs": [],
   "source": [
    "serie_region = dados['region']"
   ]
  },
  {
   "cell_type": "code",
   "execution_count": 36,
   "metadata": {},
   "outputs": [
    {
     "output_type": "stream",
     "name": "stdout",
     "text": [
      "<class 'pandas.core.frame.DataFrame'>\n<class 'pandas.core.series.Series'>\n"
     ]
    }
   ],
   "source": [
    "print(type(dados))\n",
    "print(type(serie_region))"
   ]
  },
  {
   "cell_type": "markdown",
   "metadata": {},
   "source": [
    "Agora podemos observar alguns dados contidos nesta série:"
   ]
  },
  {
   "cell_type": "code",
   "execution_count": 37,
   "metadata": {},
   "outputs": [
    {
     "output_type": "execute_result",
     "data": {
      "text/plain": [
       "0             europe_east\n",
       "1            africa_north\n",
       "2      africa_sub_saharan\n",
       "3           america_north\n",
       "4           america_south\n",
       "              ...        \n",
       "163     east_asia_pacific\n",
       "164         america_south\n",
       "165     east_asia_pacific\n",
       "166    africa_sub_saharan\n",
       "167    africa_sub_saharan\n",
       "Name: region, Length: 168, dtype: object"
      ]
     },
     "metadata": {},
     "execution_count": 37
    }
   ],
   "source": [
    "serie_region"
   ]
  },
  {
   "cell_type": "markdown",
   "metadata": {},
   "source": [
    "Note a informação impressa ao término da listagem dos primeiros elementos da série. Temos o nome da série e o `dtype`, que é o tipo de dados (*data type*) da série. Quando o tipo é `object`, geralmente trata-se de uma série de itens de texto puro. Já outras séries podem ter tipos diferentes como:\n",
    "\n",
    "| Tipo | Significado |\n",
    "|---|---|\n",
    "| `int64` | Valores inteiros. |\n",
    "| `float64` | Números reais representados em notação de ponto-flutuante |\n",
    "| `bool` | Variáveis *booleanas* (só podem valer `True` ou `False`) |\n",
    "| `categorical` | Variáveis *categóricas*, que representam elementos de um conjunto finito de categorias (por exemplo: escolhas em um formulário) |\n",
    "| `datetime64` | Datas |\n",
    "| `timedelta[ns]` | Diferenças entre instantes de tempo |"
   ]
  },
  {
   "cell_type": "markdown",
   "metadata": {},
   "source": [
    "Há várias maneiras de escrever o código para extrair a coluna `region` do `dataframe`, aqui, chamado de `dados`.\n",
    "\n",
    "Vejas algumas maneiras:"
   ]
  },
  {
   "cell_type": "code",
   "execution_count": 38,
   "metadata": {
    "scrolled": true
   },
   "outputs": [
    {
     "output_type": "execute_result",
     "data": {
      "text/plain": [
       "0             europe_east\n",
       "1            africa_north\n",
       "2      africa_sub_saharan\n",
       "3           america_north\n",
       "4           america_south\n",
       "              ...        \n",
       "163     east_asia_pacific\n",
       "164         america_south\n",
       "165     east_asia_pacific\n",
       "166    africa_sub_saharan\n",
       "167    africa_sub_saharan\n",
       "Name: region, Length: 168, dtype: object"
      ]
     },
     "metadata": {},
     "execution_count": 38
    }
   ],
   "source": [
    "# Maneira 1:\n",
    "dados['region']"
   ]
  },
  {
   "cell_type": "markdown",
   "metadata": {},
   "source": [
    "Existe outra maneira de acessar uma coluna do `DataFrame`. O Pandas oferece também o acesso às colunas de um `DataFrame` como se fossem *atributos* do `DataFrame` (lembra de classes e atributos lá de Design de Software?):"
   ]
  },
  {
   "cell_type": "code",
   "execution_count": 39,
   "metadata": {
    "scrolled": true
   },
   "outputs": [
    {
     "output_type": "execute_result",
     "data": {
      "text/plain": [
       "0             europe_east\n",
       "1            africa_north\n",
       "2      africa_sub_saharan\n",
       "3           america_north\n",
       "4           america_south\n",
       "              ...        \n",
       "163     east_asia_pacific\n",
       "164         america_south\n",
       "165     east_asia_pacific\n",
       "166    africa_sub_saharan\n",
       "167    africa_sub_saharan\n",
       "Name: region, Length: 168, dtype: object"
      ]
     },
     "metadata": {},
     "execution_count": 39
    }
   ],
   "source": [
    "# Maneira 2:\n",
    "dados.region"
   ]
  },
  {
   "cell_type": "markdown",
   "metadata": {},
   "source": [
    "**Uso do `DataFrame.loc[,]`:**"
   ]
  },
  {
   "cell_type": "markdown",
   "metadata": {},
   "source": [
    "Ainda, é possível utilizar o comando `loc` cuja propriedade é acessar um subconjunto de linhas e/ou colunas considerando seus respectivos rótulos. Esse comando é semelhante ao fatiamento (*slicing*) de listas e strings que utilizaram em Design de Software.\n",
    "\n",
    "De **maneira geral**, funciona da seguinte maneira:\n",
    "\n",
    "`DataFrame.loc[<rótulo linha(s)>,<rótulo coluna(s)>]`\n",
    "\n",
    "Consulte mais detalhes [aqui](https://pandas.pydata.org/pandas-docs/stable/reference/api/pandas.DataFrame.loc.html).\n",
    "\n",
    "<div id=\"loc\"></div>"
   ]
  },
  {
   "cell_type": "code",
   "execution_count": 40,
   "metadata": {},
   "outputs": [
    {
     "output_type": "execute_result",
     "data": {
      "text/plain": [
       "0             europe_east\n",
       "1            africa_north\n",
       "2      africa_sub_saharan\n",
       "3           america_north\n",
       "4           america_south\n",
       "              ...        \n",
       "163     east_asia_pacific\n",
       "164         america_south\n",
       "165     east_asia_pacific\n",
       "166    africa_sub_saharan\n",
       "167    africa_sub_saharan\n",
       "Name: region, Length: 168, dtype: object"
      ]
     },
     "metadata": {},
     "execution_count": 40
    }
   ],
   "source": [
    "# Maneira 3:\n",
    "dados.loc[:,'region']"
   ]
  },
  {
   "cell_type": "markdown",
   "metadata": {},
   "source": [
    "Se for utilizado o rótulo da coluna em formato de lista, o resultado se mantem como tipo `DataFrame`:"
   ]
  },
  {
   "cell_type": "code",
   "execution_count": 41,
   "metadata": {},
   "outputs": [
    {
     "output_type": "execute_result",
     "data": {
      "text/plain": [
       "                 region\n",
       "0           europe_east\n",
       "1          africa_north\n",
       "2    africa_sub_saharan\n",
       "3         america_north\n",
       "4         america_south\n",
       "..                  ...\n",
       "163   east_asia_pacific\n",
       "164       america_south\n",
       "165   east_asia_pacific\n",
       "166  africa_sub_saharan\n",
       "167  africa_sub_saharan\n",
       "\n",
       "[168 rows x 1 columns]"
      ],
      "text/html": "<div>\n<style scoped>\n    .dataframe tbody tr th:only-of-type {\n        vertical-align: middle;\n    }\n\n    .dataframe tbody tr th {\n        vertical-align: top;\n    }\n\n    .dataframe thead th {\n        text-align: right;\n    }\n</style>\n<table border=\"1\" class=\"dataframe\">\n  <thead>\n    <tr style=\"text-align: right;\">\n      <th></th>\n      <th>region</th>\n    </tr>\n  </thead>\n  <tbody>\n    <tr>\n      <th>0</th>\n      <td>europe_east</td>\n    </tr>\n    <tr>\n      <th>1</th>\n      <td>africa_north</td>\n    </tr>\n    <tr>\n      <th>2</th>\n      <td>africa_sub_saharan</td>\n    </tr>\n    <tr>\n      <th>3</th>\n      <td>america_north</td>\n    </tr>\n    <tr>\n      <th>4</th>\n      <td>america_south</td>\n    </tr>\n    <tr>\n      <th>...</th>\n      <td>...</td>\n    </tr>\n    <tr>\n      <th>163</th>\n      <td>east_asia_pacific</td>\n    </tr>\n    <tr>\n      <th>164</th>\n      <td>america_south</td>\n    </tr>\n    <tr>\n      <th>165</th>\n      <td>east_asia_pacific</td>\n    </tr>\n    <tr>\n      <th>166</th>\n      <td>africa_sub_saharan</td>\n    </tr>\n    <tr>\n      <th>167</th>\n      <td>africa_sub_saharan</td>\n    </tr>\n  </tbody>\n</table>\n<p>168 rows × 1 columns</p>\n</div>"
     },
     "metadata": {},
     "execution_count": 41
    }
   ],
   "source": [
    "# Maneira 4:\n",
    "dados.loc[:,['region']]"
   ]
  },
  {
   "cell_type": "markdown",
   "metadata": {},
   "source": [
    "Por exemplo, podemos usar essa última variante do comando `.loc[]` para obter um `DataFrame` com apenas as colunas `region` e `Country`:"
   ]
  },
  {
   "cell_type": "code",
   "execution_count": 54,
   "metadata": {
    "scrolled": true
   },
   "outputs": [
    {
     "output_type": "execute_result",
     "data": {
      "text/plain": [
       "                 region              Country\n",
       "0           europe_east              Albania\n",
       "1          africa_north              Algeria\n",
       "2    africa_sub_saharan               Angola\n",
       "3         america_north  Antigua and Barbuda\n",
       "4         america_south            Argentina\n",
       "..                  ...                  ...\n",
       "163   east_asia_pacific              Vanuatu\n",
       "164       america_south            Venezuela\n",
       "165   east_asia_pacific              Vietnam\n",
       "166  africa_sub_saharan               Zambia\n",
       "167  africa_sub_saharan             Zimbabwe\n",
       "\n",
       "[168 rows x 2 columns]"
      ],
      "text/html": "<div>\n<style scoped>\n    .dataframe tbody tr th:only-of-type {\n        vertical-align: middle;\n    }\n\n    .dataframe tbody tr th {\n        vertical-align: top;\n    }\n\n    .dataframe thead th {\n        text-align: right;\n    }\n</style>\n<table border=\"1\" class=\"dataframe\">\n  <thead>\n    <tr style=\"text-align: right;\">\n      <th></th>\n      <th>region</th>\n      <th>Country</th>\n    </tr>\n  </thead>\n  <tbody>\n    <tr>\n      <th>0</th>\n      <td>europe_east</td>\n      <td>Albania</td>\n    </tr>\n    <tr>\n      <th>1</th>\n      <td>africa_north</td>\n      <td>Algeria</td>\n    </tr>\n    <tr>\n      <th>2</th>\n      <td>africa_sub_saharan</td>\n      <td>Angola</td>\n    </tr>\n    <tr>\n      <th>3</th>\n      <td>america_north</td>\n      <td>Antigua and Barbuda</td>\n    </tr>\n    <tr>\n      <th>4</th>\n      <td>america_south</td>\n      <td>Argentina</td>\n    </tr>\n    <tr>\n      <th>...</th>\n      <td>...</td>\n      <td>...</td>\n    </tr>\n    <tr>\n      <th>163</th>\n      <td>east_asia_pacific</td>\n      <td>Vanuatu</td>\n    </tr>\n    <tr>\n      <th>164</th>\n      <td>america_south</td>\n      <td>Venezuela</td>\n    </tr>\n    <tr>\n      <th>165</th>\n      <td>east_asia_pacific</td>\n      <td>Vietnam</td>\n    </tr>\n    <tr>\n      <th>166</th>\n      <td>africa_sub_saharan</td>\n      <td>Zambia</td>\n    </tr>\n    <tr>\n      <th>167</th>\n      <td>africa_sub_saharan</td>\n      <td>Zimbabwe</td>\n    </tr>\n  </tbody>\n</table>\n<p>168 rows × 2 columns</p>\n</div>"
     },
     "metadata": {},
     "execution_count": 54
    }
   ],
   "source": [
    "dados.loc[:, ['region', 'Country']]"
   ]
  },
  {
   "cell_type": "markdown",
   "metadata": {},
   "source": [
    "**Uso do `DataFrame.iloc[,]:`**"
   ]
  },
  {
   "cell_type": "markdown",
   "metadata": {},
   "source": [
    "Por fim, também é possível utilizar o comando `iloc` cuja propriedade é acessar um subconjunto de linhas e/ou colunas considerando números inteiros para indicar a posição. Lembrando que a posição começa em $0$ e termina em `length`$-1$.\n",
    "\n",
    "De **maneira geral**, funciona da seguinte maneira:\n",
    "\n",
    "`DataFrame.iloc[<posição linha(s)>,<posição coluna(s)>]`\n",
    "\n",
    "Consulte mais detalhes [aqui](https://pandas.pydata.org/pandas-docs/stable/reference/api/pandas.DataFrame.iloc.html).\n",
    "\n",
    "<div id=\"iloc\"></div>"
   ]
  },
  {
   "cell_type": "markdown",
   "metadata": {},
   "source": [
    "Antes, para saber a posição da coluna que procura:"
   ]
  },
  {
   "cell_type": "code",
   "execution_count": 43,
   "metadata": {},
   "outputs": [
    {
     "output_type": "execute_result",
     "data": {
      "text/plain": [
       "4"
      ]
     },
     "metadata": {},
     "execution_count": 43
    }
   ],
   "source": [
    "list(dados).index('region')"
   ]
  },
  {
   "cell_type": "markdown",
   "metadata": {},
   "source": [
    "Finalmente, mais uma maneira para selecionar apenas a coluna `region` que está na quinta coluna (ou seja, na posição 4), temos:"
   ]
  },
  {
   "cell_type": "code",
   "execution_count": 44,
   "metadata": {
    "scrolled": false
   },
   "outputs": [
    {
     "output_type": "execute_result",
     "data": {
      "text/plain": [
       "0           europe_east\n",
       "1          africa_north\n",
       "2    africa_sub_saharan\n",
       "3         america_north\n",
       "4         america_south\n",
       "Name: region, dtype: object"
      ]
     },
     "metadata": {},
     "execution_count": 44
    }
   ],
   "source": [
    "# Maneira 5:\n",
    "dados.iloc[:,4].head(5)"
   ]
  },
  {
   "cell_type": "markdown",
   "metadata": {},
   "source": [
    "**Mais um exemplo sobre a diferença entre `DataFrame.loc[,]` e `DataFrame.iloc[,]`:**\n",
    "\n",
    "Lembram da base de dados ordenada por `Population`? Note que rótulo da linha manteve a ordenação do conjunto de dados original guardado em `dados`."
   ]
  },
  {
   "cell_type": "code",
   "execution_count": 45,
   "metadata": {
    "scrolled": true
   },
   "outputs": [
    {
     "output_type": "execute_result",
     "data": {
      "text/plain": [
       "                 Country  Population     GDPcapita  surface  \\\n",
       "155               Tuvalu        9827   1559.983698       30   \n",
       "114                Palau       20470   5756.810516      460   \n",
       "94      Marshall Islands       52428   2437.282445      180   \n",
       "42              Dominica       71167   6529.529633      750   \n",
       "3    Antigua and Barbuda       87233  10614.794315      440   \n",
       "..                   ...         ...           ...      ...   \n",
       "20                Brazil   198614208   4716.614125  8514880   \n",
       "70             Indonesia   241613126   1145.385435  1904570   \n",
       "160        United States   309876170  37329.615914  9831510   \n",
       "69                 India  1230984504    794.801256  3287260   \n",
       "31                 China  1340968737   2426.332466  9600000   \n",
       "\n",
       "                region  landlocked  \n",
       "155  east_asia_pacific           0  \n",
       "114  east_asia_pacific           0  \n",
       "94   east_asia_pacific           0  \n",
       "42       america_north           0  \n",
       "3        america_north           0  \n",
       "..                 ...         ...  \n",
       "20       america_south           0  \n",
       "70   east_asia_pacific           0  \n",
       "160      america_north           0  \n",
       "69           asia_west           0  \n",
       "31   east_asia_pacific           0  \n",
       "\n",
       "[168 rows x 6 columns]"
      ],
      "text/html": "<div>\n<style scoped>\n    .dataframe tbody tr th:only-of-type {\n        vertical-align: middle;\n    }\n\n    .dataframe tbody tr th {\n        vertical-align: top;\n    }\n\n    .dataframe thead th {\n        text-align: right;\n    }\n</style>\n<table border=\"1\" class=\"dataframe\">\n  <thead>\n    <tr style=\"text-align: right;\">\n      <th></th>\n      <th>Country</th>\n      <th>Population</th>\n      <th>GDPcapita</th>\n      <th>surface</th>\n      <th>region</th>\n      <th>landlocked</th>\n    </tr>\n  </thead>\n  <tbody>\n    <tr>\n      <th>155</th>\n      <td>Tuvalu</td>\n      <td>9827</td>\n      <td>1559.983698</td>\n      <td>30</td>\n      <td>east_asia_pacific</td>\n      <td>0</td>\n    </tr>\n    <tr>\n      <th>114</th>\n      <td>Palau</td>\n      <td>20470</td>\n      <td>5756.810516</td>\n      <td>460</td>\n      <td>east_asia_pacific</td>\n      <td>0</td>\n    </tr>\n    <tr>\n      <th>94</th>\n      <td>Marshall Islands</td>\n      <td>52428</td>\n      <td>2437.282445</td>\n      <td>180</td>\n      <td>east_asia_pacific</td>\n      <td>0</td>\n    </tr>\n    <tr>\n      <th>42</th>\n      <td>Dominica</td>\n      <td>71167</td>\n      <td>6529.529633</td>\n      <td>750</td>\n      <td>america_north</td>\n      <td>0</td>\n    </tr>\n    <tr>\n      <th>3</th>\n      <td>Antigua and Barbuda</td>\n      <td>87233</td>\n      <td>10614.794315</td>\n      <td>440</td>\n      <td>america_north</td>\n      <td>0</td>\n    </tr>\n    <tr>\n      <th>...</th>\n      <td>...</td>\n      <td>...</td>\n      <td>...</td>\n      <td>...</td>\n      <td>...</td>\n      <td>...</td>\n    </tr>\n    <tr>\n      <th>20</th>\n      <td>Brazil</td>\n      <td>198614208</td>\n      <td>4716.614125</td>\n      <td>8514880</td>\n      <td>america_south</td>\n      <td>0</td>\n    </tr>\n    <tr>\n      <th>70</th>\n      <td>Indonesia</td>\n      <td>241613126</td>\n      <td>1145.385435</td>\n      <td>1904570</td>\n      <td>east_asia_pacific</td>\n      <td>0</td>\n    </tr>\n    <tr>\n      <th>160</th>\n      <td>United States</td>\n      <td>309876170</td>\n      <td>37329.615914</td>\n      <td>9831510</td>\n      <td>america_north</td>\n      <td>0</td>\n    </tr>\n    <tr>\n      <th>69</th>\n      <td>India</td>\n      <td>1230984504</td>\n      <td>794.801256</td>\n      <td>3287260</td>\n      <td>asia_west</td>\n      <td>0</td>\n    </tr>\n    <tr>\n      <th>31</th>\n      <td>China</td>\n      <td>1340968737</td>\n      <td>2426.332466</td>\n      <td>9600000</td>\n      <td>east_asia_pacific</td>\n      <td>0</td>\n    </tr>\n  </tbody>\n</table>\n<p>168 rows × 6 columns</p>\n</div>"
     },
     "metadata": {},
     "execution_count": 45
    }
   ],
   "source": [
    "dados_ordenados_por_população"
   ]
  },
  {
   "cell_type": "markdown",
   "metadata": {},
   "source": [
    "Veja o que acontece com os códigos abaixo:"
   ]
  },
  {
   "cell_type": "code",
   "execution_count": 46,
   "metadata": {},
   "outputs": [
    {
     "output_type": "execute_result",
     "data": {
      "text/plain": [
       "        Country  Population     GDPcapita  surface              region  \\\n",
       "0       Albania     2901883   1915.424459    28750         europe_east   \n",
       "112        Oman     2943747  11345.429553   309500           asia_west   \n",
       "5       Armenia     2963496   1326.710864    29740         europe_east   \n",
       "80       Kuwait     3059473  23114.586674    17820           asia_west   \n",
       "85    Lithuania     3122835   5332.530607    65300         europe_east   \n",
       "..          ...         ...           ...      ...                 ...   \n",
       "123     Romania    20298838   2636.787677   238390         europe_east   \n",
       "26     Cameroon    20590666    653.028693   475440  africa_sub_saharan   \n",
       "144       Syria    20720602   1525.809293   185180           asia_west   \n",
       "88   Madagascar    21079532    242.685817   587040  africa_sub_saharan   \n",
       "2        Angola    21219954    623.245275  1246700  africa_sub_saharan   \n",
       "\n",
       "     landlocked  \n",
       "0             0  \n",
       "112           0  \n",
       "5             1  \n",
       "80            0  \n",
       "85            0  \n",
       "..          ...  \n",
       "123           0  \n",
       "26            0  \n",
       "144           0  \n",
       "88            0  \n",
       "2             0  \n",
       "\n",
       "[77 rows x 6 columns]"
      ],
      "text/html": "<div>\n<style scoped>\n    .dataframe tbody tr th:only-of-type {\n        vertical-align: middle;\n    }\n\n    .dataframe tbody tr th {\n        vertical-align: top;\n    }\n\n    .dataframe thead th {\n        text-align: right;\n    }\n</style>\n<table border=\"1\" class=\"dataframe\">\n  <thead>\n    <tr style=\"text-align: right;\">\n      <th></th>\n      <th>Country</th>\n      <th>Population</th>\n      <th>GDPcapita</th>\n      <th>surface</th>\n      <th>region</th>\n      <th>landlocked</th>\n    </tr>\n  </thead>\n  <tbody>\n    <tr>\n      <th>0</th>\n      <td>Albania</td>\n      <td>2901883</td>\n      <td>1915.424459</td>\n      <td>28750</td>\n      <td>europe_east</td>\n      <td>0</td>\n    </tr>\n    <tr>\n      <th>112</th>\n      <td>Oman</td>\n      <td>2943747</td>\n      <td>11345.429553</td>\n      <td>309500</td>\n      <td>asia_west</td>\n      <td>0</td>\n    </tr>\n    <tr>\n      <th>5</th>\n      <td>Armenia</td>\n      <td>2963496</td>\n      <td>1326.710864</td>\n      <td>29740</td>\n      <td>europe_east</td>\n      <td>1</td>\n    </tr>\n    <tr>\n      <th>80</th>\n      <td>Kuwait</td>\n      <td>3059473</td>\n      <td>23114.586674</td>\n      <td>17820</td>\n      <td>asia_west</td>\n      <td>0</td>\n    </tr>\n    <tr>\n      <th>85</th>\n      <td>Lithuania</td>\n      <td>3122835</td>\n      <td>5332.530607</td>\n      <td>65300</td>\n      <td>europe_east</td>\n      <td>0</td>\n    </tr>\n    <tr>\n      <th>...</th>\n      <td>...</td>\n      <td>...</td>\n      <td>...</td>\n      <td>...</td>\n      <td>...</td>\n      <td>...</td>\n    </tr>\n    <tr>\n      <th>123</th>\n      <td>Romania</td>\n      <td>20298838</td>\n      <td>2636.787677</td>\n      <td>238390</td>\n      <td>europe_east</td>\n      <td>0</td>\n    </tr>\n    <tr>\n      <th>26</th>\n      <td>Cameroon</td>\n      <td>20590666</td>\n      <td>653.028693</td>\n      <td>475440</td>\n      <td>africa_sub_saharan</td>\n      <td>0</td>\n    </tr>\n    <tr>\n      <th>144</th>\n      <td>Syria</td>\n      <td>20720602</td>\n      <td>1525.809293</td>\n      <td>185180</td>\n      <td>asia_west</td>\n      <td>0</td>\n    </tr>\n    <tr>\n      <th>88</th>\n      <td>Madagascar</td>\n      <td>21079532</td>\n      <td>242.685817</td>\n      <td>587040</td>\n      <td>africa_sub_saharan</td>\n      <td>0</td>\n    </tr>\n    <tr>\n      <th>2</th>\n      <td>Angola</td>\n      <td>21219954</td>\n      <td>623.245275</td>\n      <td>1246700</td>\n      <td>africa_sub_saharan</td>\n      <td>0</td>\n    </tr>\n  </tbody>\n</table>\n<p>77 rows × 6 columns</p>\n</div>"
     },
     "metadata": {},
     "execution_count": 46
    }
   ],
   "source": [
    "dados_ordenados_por_população.loc[0:2,:]"
   ]
  },
  {
   "cell_type": "code",
   "execution_count": 47,
   "metadata": {},
   "outputs": [
    {
     "output_type": "execute_result",
     "data": {
      "text/plain": [
       "    Country  Population    GDPcapita  surface             region  landlocked\n",
       "155  Tuvalu        9827  1559.983698       30  east_asia_pacific           0\n",
       "114   Palau       20470  5756.810516      460  east_asia_pacific           0"
      ],
      "text/html": "<div>\n<style scoped>\n    .dataframe tbody tr th:only-of-type {\n        vertical-align: middle;\n    }\n\n    .dataframe tbody tr th {\n        vertical-align: top;\n    }\n\n    .dataframe thead th {\n        text-align: right;\n    }\n</style>\n<table border=\"1\" class=\"dataframe\">\n  <thead>\n    <tr style=\"text-align: right;\">\n      <th></th>\n      <th>Country</th>\n      <th>Population</th>\n      <th>GDPcapita</th>\n      <th>surface</th>\n      <th>region</th>\n      <th>landlocked</th>\n    </tr>\n  </thead>\n  <tbody>\n    <tr>\n      <th>155</th>\n      <td>Tuvalu</td>\n      <td>9827</td>\n      <td>1559.983698</td>\n      <td>30</td>\n      <td>east_asia_pacific</td>\n      <td>0</td>\n    </tr>\n    <tr>\n      <th>114</th>\n      <td>Palau</td>\n      <td>20470</td>\n      <td>5756.810516</td>\n      <td>460</td>\n      <td>east_asia_pacific</td>\n      <td>0</td>\n    </tr>\n  </tbody>\n</table>\n</div>"
     },
     "metadata": {},
     "execution_count": 47
    }
   ],
   "source": [
    "dados_ordenados_por_população.iloc[0:2,:]"
   ]
  },
  {
   "cell_type": "markdown",
   "metadata": {},
   "source": [
    "<div id=\"selectlinhas\"></div>\n",
    "\n",
    "### Selecionando linhas de um DataFrame\n",
    "\n",
    "Suponha que você queira filtrar o `DataFrame`, deixando apenas os países da América do Sul. Em todos os exemplos até aqui usando tanto o `.loc` quanto o `.iloc` utilizamos dois pontos (`:`) no primeiro argumento. Isso é semelhante ao que fazíamos em Design de Software para fazer um fatiamento de uma lista que vai desde o começo até o fim, ou seja, que pega todas as linhas. Assim, utilizaremos esse primeiro argumento do `.loc` e `.iloc` para selecionar apenas algumas linhas específicas.\n",
    "\n",
    "Uma facilidade oferecida pelo pandas é a possibilidade de comparar uma coluna inteira do `DataFrame` (ou seja, uma `Series`) com um valor. Por exemplo:\n"
   ]
  },
  {
   "cell_type": "code",
   "execution_count": 48,
   "metadata": {},
   "outputs": [
    {
     "output_type": "stream",
     "name": "stdout",
     "text": [
      "Regiões:\n0             europe_east\n1            africa_north\n2      africa_sub_saharan\n3           america_north\n4           america_south\n              ...        \n163     east_asia_pacific\n164         america_south\n165     east_asia_pacific\n166    africa_sub_saharan\n167    africa_sub_saharan\nName: region, Length: 168, dtype: object\n\n\nComparação das regiões iguais à string 'america_south':\n0      False\n1      False\n2      False\n3      False\n4       True\n       ...  \n163    False\n164     True\n165    False\n166    False\n167    False\nName: region, Length: 168, dtype: bool\n"
     ]
    }
   ],
   "source": [
    "print('Regiões:')\n",
    "print(dados['region'])\n",
    "print(\"\\n\\nComparação das regiões iguais à string 'america_south':\")\n",
    "print(dados['region'] == 'america_south')"
   ]
  },
  {
   "cell_type": "markdown",
   "metadata": {},
   "source": [
    "O resultado dessa operação foi uma coluna de valores booleanos, que indica para cada elemento da coluna original se ele era igual à string desejada. A vantagem disso é que podemos usar essa coluna de booleanos como filtro do `DataFrame`:"
   ]
  },
  {
   "cell_type": "code",
   "execution_count": 49,
   "metadata": {},
   "outputs": [
    {
     "output_type": "execute_result",
     "data": {
      "text/plain": [
       "       Country  Population     GDPcapita  surface         region  landlocked\n",
       "4    Argentina    41222875  10749.319224  2780400  america_south           0\n",
       "17     Bolivia     9918245   1232.688733  1098580  america_south           1\n",
       "20      Brazil   198614208   4716.614125  8514880  america_south           0\n",
       "30       Chile    17015048   6781.696484   756090  america_south           0\n",
       "32    Colombia    45918101   3218.071704  1141750  america_south           0\n",
       "43     Ecuador    14934692   1728.052156   256370  america_south           0\n",
       "63      Guyana      753362   1210.569558   214970  america_south           0\n",
       "117   Paraguay     6209877   1578.636338   406750  america_south           1\n",
       "118       Peru    29373644   3180.374608  1285220  america_south           0\n",
       "140   Suriname      518141   2737.334439   163820  america_south           0\n",
       "161    Uruguay     3374414   9096.794459   176220  america_south           0\n",
       "164  Venezuela    28995745   5528.363114   912050  america_south           0"
      ],
      "text/html": "<div>\n<style scoped>\n    .dataframe tbody tr th:only-of-type {\n        vertical-align: middle;\n    }\n\n    .dataframe tbody tr th {\n        vertical-align: top;\n    }\n\n    .dataframe thead th {\n        text-align: right;\n    }\n</style>\n<table border=\"1\" class=\"dataframe\">\n  <thead>\n    <tr style=\"text-align: right;\">\n      <th></th>\n      <th>Country</th>\n      <th>Population</th>\n      <th>GDPcapita</th>\n      <th>surface</th>\n      <th>region</th>\n      <th>landlocked</th>\n    </tr>\n  </thead>\n  <tbody>\n    <tr>\n      <th>4</th>\n      <td>Argentina</td>\n      <td>41222875</td>\n      <td>10749.319224</td>\n      <td>2780400</td>\n      <td>america_south</td>\n      <td>0</td>\n    </tr>\n    <tr>\n      <th>17</th>\n      <td>Bolivia</td>\n      <td>9918245</td>\n      <td>1232.688733</td>\n      <td>1098580</td>\n      <td>america_south</td>\n      <td>1</td>\n    </tr>\n    <tr>\n      <th>20</th>\n      <td>Brazil</td>\n      <td>198614208</td>\n      <td>4716.614125</td>\n      <td>8514880</td>\n      <td>america_south</td>\n      <td>0</td>\n    </tr>\n    <tr>\n      <th>30</th>\n      <td>Chile</td>\n      <td>17015048</td>\n      <td>6781.696484</td>\n      <td>756090</td>\n      <td>america_south</td>\n      <td>0</td>\n    </tr>\n    <tr>\n      <th>32</th>\n      <td>Colombia</td>\n      <td>45918101</td>\n      <td>3218.071704</td>\n      <td>1141750</td>\n      <td>america_south</td>\n      <td>0</td>\n    </tr>\n    <tr>\n      <th>43</th>\n      <td>Ecuador</td>\n      <td>14934692</td>\n      <td>1728.052156</td>\n      <td>256370</td>\n      <td>america_south</td>\n      <td>0</td>\n    </tr>\n    <tr>\n      <th>63</th>\n      <td>Guyana</td>\n      <td>753362</td>\n      <td>1210.569558</td>\n      <td>214970</td>\n      <td>america_south</td>\n      <td>0</td>\n    </tr>\n    <tr>\n      <th>117</th>\n      <td>Paraguay</td>\n      <td>6209877</td>\n      <td>1578.636338</td>\n      <td>406750</td>\n      <td>america_south</td>\n      <td>1</td>\n    </tr>\n    <tr>\n      <th>118</th>\n      <td>Peru</td>\n      <td>29373644</td>\n      <td>3180.374608</td>\n      <td>1285220</td>\n      <td>america_south</td>\n      <td>0</td>\n    </tr>\n    <tr>\n      <th>140</th>\n      <td>Suriname</td>\n      <td>518141</td>\n      <td>2737.334439</td>\n      <td>163820</td>\n      <td>america_south</td>\n      <td>0</td>\n    </tr>\n    <tr>\n      <th>161</th>\n      <td>Uruguay</td>\n      <td>3374414</td>\n      <td>9096.794459</td>\n      <td>176220</td>\n      <td>america_south</td>\n      <td>0</td>\n    </tr>\n    <tr>\n      <th>164</th>\n      <td>Venezuela</td>\n      <td>28995745</td>\n      <td>5528.363114</td>\n      <td>912050</td>\n      <td>america_south</td>\n      <td>0</td>\n    </tr>\n  </tbody>\n</table>\n</div>"
     },
     "metadata": {},
     "execution_count": 49
    }
   ],
   "source": [
    "filtra_linhas = dados['region'] == 'america_south'\n",
    "dados.loc[filtra_linhas, :]"
   ]
  },
  {
   "cell_type": "markdown",
   "metadata": {},
   "source": [
    "Utilizamos diversos conceitos na célula anterior. Para facilitar a compreensão, explique para um colega o que está acontecendo no comando acima.\n",
    "\n",
    "**Importante:** no exemplo acima utilizamos o comparador `==`, mas também podemos utilizar os outros comparadores que já conhecemos do Python (desde que faça sentido levando em conta o tipo dos dados da coluna): `<`, `<=`, `>`, `>=`, etc.\n",
    "\n",
    "<div id=\"selectlinhas-combinando\"></div>\n",
    "\n",
    "### Selecionando linhas de um DataFrame usando mais de uma condição\n",
    "\n",
    "É possível que queiramos combinar condições. Por exemplo, queremos todos os países da América do Sul que possuam população menor do que 10.000.000 pessoas. Para combinar condições em Design de Software, utilizávamos a palavras `and` e `or`. Para combinar condições de colunas, vamos utilizar `&` e `|`, que são análogos ao `and` e `or`, respectivamente."
   ]
  },
  {
   "cell_type": "code",
   "execution_count": 50,
   "metadata": {
    "scrolled": true
   },
   "outputs": [
    {
     "output_type": "execute_result",
     "data": {
      "text/plain": [
       "      Country  Population    GDPcapita  surface         region  landlocked\n",
       "17    Bolivia     9918245  1232.688733  1098580  america_south           1\n",
       "63     Guyana      753362  1210.569558   214970  america_south           0\n",
       "117  Paraguay     6209877  1578.636338   406750  america_south           1\n",
       "140  Suriname      518141  2737.334439   163820  america_south           0\n",
       "161   Uruguay     3374414  9096.794459   176220  america_south           0"
      ],
      "text/html": "<div>\n<style scoped>\n    .dataframe tbody tr th:only-of-type {\n        vertical-align: middle;\n    }\n\n    .dataframe tbody tr th {\n        vertical-align: top;\n    }\n\n    .dataframe thead th {\n        text-align: right;\n    }\n</style>\n<table border=\"1\" class=\"dataframe\">\n  <thead>\n    <tr style=\"text-align: right;\">\n      <th></th>\n      <th>Country</th>\n      <th>Population</th>\n      <th>GDPcapita</th>\n      <th>surface</th>\n      <th>region</th>\n      <th>landlocked</th>\n    </tr>\n  </thead>\n  <tbody>\n    <tr>\n      <th>17</th>\n      <td>Bolivia</td>\n      <td>9918245</td>\n      <td>1232.688733</td>\n      <td>1098580</td>\n      <td>america_south</td>\n      <td>1</td>\n    </tr>\n    <tr>\n      <th>63</th>\n      <td>Guyana</td>\n      <td>753362</td>\n      <td>1210.569558</td>\n      <td>214970</td>\n      <td>america_south</td>\n      <td>0</td>\n    </tr>\n    <tr>\n      <th>117</th>\n      <td>Paraguay</td>\n      <td>6209877</td>\n      <td>1578.636338</td>\n      <td>406750</td>\n      <td>america_south</td>\n      <td>1</td>\n    </tr>\n    <tr>\n      <th>140</th>\n      <td>Suriname</td>\n      <td>518141</td>\n      <td>2737.334439</td>\n      <td>163820</td>\n      <td>america_south</td>\n      <td>0</td>\n    </tr>\n    <tr>\n      <th>161</th>\n      <td>Uruguay</td>\n      <td>3374414</td>\n      <td>9096.794459</td>\n      <td>176220</td>\n      <td>america_south</td>\n      <td>0</td>\n    </tr>\n  </tbody>\n</table>\n</div>"
     },
     "metadata": {},
     "execution_count": 50
    }
   ],
   "source": [
    "america_do_sul = dados['region'] == 'america_south'\n",
    "populacao_menor_que_10m = dados['Population'] < 10000000\n",
    "dados.loc[america_do_sul & populacao_menor_que_10m, :]"
   ]
  },
  {
   "cell_type": "markdown",
   "metadata": {},
   "source": [
    "Os comandos acima criam as variáveis com os filtros simplificando o uso direto como abaixo:"
   ]
  },
  {
   "cell_type": "code",
   "execution_count": 51,
   "metadata": {},
   "outputs": [
    {
     "output_type": "execute_result",
     "data": {
      "text/plain": [
       "      Country  Population    GDPcapita  surface         region  landlocked\n",
       "17    Bolivia     9918245  1232.688733  1098580  america_south           1\n",
       "63     Guyana      753362  1210.569558   214970  america_south           0\n",
       "117  Paraguay     6209877  1578.636338   406750  america_south           1\n",
       "140  Suriname      518141  2737.334439   163820  america_south           0\n",
       "161   Uruguay     3374414  9096.794459   176220  america_south           0"
      ],
      "text/html": "<div>\n<style scoped>\n    .dataframe tbody tr th:only-of-type {\n        vertical-align: middle;\n    }\n\n    .dataframe tbody tr th {\n        vertical-align: top;\n    }\n\n    .dataframe thead th {\n        text-align: right;\n    }\n</style>\n<table border=\"1\" class=\"dataframe\">\n  <thead>\n    <tr style=\"text-align: right;\">\n      <th></th>\n      <th>Country</th>\n      <th>Population</th>\n      <th>GDPcapita</th>\n      <th>surface</th>\n      <th>region</th>\n      <th>landlocked</th>\n    </tr>\n  </thead>\n  <tbody>\n    <tr>\n      <th>17</th>\n      <td>Bolivia</td>\n      <td>9918245</td>\n      <td>1232.688733</td>\n      <td>1098580</td>\n      <td>america_south</td>\n      <td>1</td>\n    </tr>\n    <tr>\n      <th>63</th>\n      <td>Guyana</td>\n      <td>753362</td>\n      <td>1210.569558</td>\n      <td>214970</td>\n      <td>america_south</td>\n      <td>0</td>\n    </tr>\n    <tr>\n      <th>117</th>\n      <td>Paraguay</td>\n      <td>6209877</td>\n      <td>1578.636338</td>\n      <td>406750</td>\n      <td>america_south</td>\n      <td>1</td>\n    </tr>\n    <tr>\n      <th>140</th>\n      <td>Suriname</td>\n      <td>518141</td>\n      <td>2737.334439</td>\n      <td>163820</td>\n      <td>america_south</td>\n      <td>0</td>\n    </tr>\n    <tr>\n      <th>161</th>\n      <td>Uruguay</td>\n      <td>3374414</td>\n      <td>9096.794459</td>\n      <td>176220</td>\n      <td>america_south</td>\n      <td>0</td>\n    </tr>\n  </tbody>\n</table>\n</div>"
     },
     "metadata": {},
     "execution_count": 51
    }
   ],
   "source": [
    "dados.loc[(dados['region'] == 'america_south') & (dados['Population'] < 10000000), :]"
   ]
  },
  {
   "cell_type": "markdown",
   "metadata": {},
   "source": [
    "<div id=\"selectmais\"></div>\n",
    "\n",
    "### Selecionando um subconjunto de um DataFrame\n",
    "\n",
    "Selecione as colunas `Country` e `region` com todas as linhas.\n",
    "\n",
    "Para selecionar apenas uma variável, a linha de comando `dados['region']` funciona, como já vimos anteriormente.\n",
    "\n",
    "Mas usar a mesma ideia para duas colunas: `dados['Country','region']`, dá certo? Faça a tentativa."
   ]
  },
  {
   "cell_type": "code",
   "execution_count": 82,
   "metadata": {
    "scrolled": true
   },
   "outputs": [
    {
     "output_type": "error",
     "ename": "KeyError",
     "evalue": "('Country', 'region')",
     "traceback": [
      "\u001b[1;31m---------------------------------------------------------------------------\u001b[0m",
      "\u001b[1;31mKeyError\u001b[0m                                  Traceback (most recent call last)",
      "\u001b[1;32m~\\AppData\\Roaming\\Python\\Python39\\site-packages\\pandas\\core\\indexes\\base.py\u001b[0m in \u001b[0;36mget_loc\u001b[1;34m(self, key, method, tolerance)\u001b[0m\n\u001b[0;32m   3079\u001b[0m             \u001b[1;32mtry\u001b[0m\u001b[1;33m:\u001b[0m\u001b[1;33m\u001b[0m\u001b[1;33m\u001b[0m\u001b[0m\n\u001b[1;32m-> 3080\u001b[1;33m                 \u001b[1;32mreturn\u001b[0m \u001b[0mself\u001b[0m\u001b[1;33m.\u001b[0m\u001b[0m_engine\u001b[0m\u001b[1;33m.\u001b[0m\u001b[0mget_loc\u001b[0m\u001b[1;33m(\u001b[0m\u001b[0mcasted_key\u001b[0m\u001b[1;33m)\u001b[0m\u001b[1;33m\u001b[0m\u001b[1;33m\u001b[0m\u001b[0m\n\u001b[0m\u001b[0;32m   3081\u001b[0m             \u001b[1;32mexcept\u001b[0m \u001b[0mKeyError\u001b[0m \u001b[1;32mas\u001b[0m \u001b[0merr\u001b[0m\u001b[1;33m:\u001b[0m\u001b[1;33m\u001b[0m\u001b[1;33m\u001b[0m\u001b[0m\n",
      "\u001b[1;32mpandas\\_libs\\index.pyx\u001b[0m in \u001b[0;36mpandas._libs.index.IndexEngine.get_loc\u001b[1;34m()\u001b[0m\n",
      "\u001b[1;32mpandas\\_libs\\index.pyx\u001b[0m in \u001b[0;36mpandas._libs.index.IndexEngine.get_loc\u001b[1;34m()\u001b[0m\n",
      "\u001b[1;32mpandas\\_libs\\hashtable_class_helper.pxi\u001b[0m in \u001b[0;36mpandas._libs.hashtable.PyObjectHashTable.get_item\u001b[1;34m()\u001b[0m\n",
      "\u001b[1;32mpandas\\_libs\\hashtable_class_helper.pxi\u001b[0m in \u001b[0;36mpandas._libs.hashtable.PyObjectHashTable.get_item\u001b[1;34m()\u001b[0m\n",
      "\u001b[1;31mKeyError\u001b[0m: ('Country', 'region')",
      "\nThe above exception was the direct cause of the following exception:\n",
      "\u001b[1;31mKeyError\u001b[0m                                  Traceback (most recent call last)",
      "\u001b[1;32m<ipython-input-82-e86f96a053d2>\u001b[0m in \u001b[0;36m<module>\u001b[1;34m\u001b[0m\n\u001b[1;32m----> 1\u001b[1;33m \u001b[0mdados\u001b[0m\u001b[1;33m[\u001b[0m\u001b[1;34m'Country'\u001b[0m\u001b[1;33m,\u001b[0m\u001b[1;34m'region'\u001b[0m\u001b[1;33m]\u001b[0m\u001b[1;33m\u001b[0m\u001b[1;33m\u001b[0m\u001b[0m\n\u001b[0m",
      "\u001b[1;32m~\\AppData\\Roaming\\Python\\Python39\\site-packages\\pandas\\core\\frame.py\u001b[0m in \u001b[0;36m__getitem__\u001b[1;34m(self, key)\u001b[0m\n\u001b[0;32m   3022\u001b[0m             \u001b[1;32mif\u001b[0m \u001b[0mself\u001b[0m\u001b[1;33m.\u001b[0m\u001b[0mcolumns\u001b[0m\u001b[1;33m.\u001b[0m\u001b[0mnlevels\u001b[0m \u001b[1;33m>\u001b[0m \u001b[1;36m1\u001b[0m\u001b[1;33m:\u001b[0m\u001b[1;33m\u001b[0m\u001b[1;33m\u001b[0m\u001b[0m\n\u001b[0;32m   3023\u001b[0m                 \u001b[1;32mreturn\u001b[0m \u001b[0mself\u001b[0m\u001b[1;33m.\u001b[0m\u001b[0m_getitem_multilevel\u001b[0m\u001b[1;33m(\u001b[0m\u001b[0mkey\u001b[0m\u001b[1;33m)\u001b[0m\u001b[1;33m\u001b[0m\u001b[1;33m\u001b[0m\u001b[0m\n\u001b[1;32m-> 3024\u001b[1;33m             \u001b[0mindexer\u001b[0m \u001b[1;33m=\u001b[0m \u001b[0mself\u001b[0m\u001b[1;33m.\u001b[0m\u001b[0mcolumns\u001b[0m\u001b[1;33m.\u001b[0m\u001b[0mget_loc\u001b[0m\u001b[1;33m(\u001b[0m\u001b[0mkey\u001b[0m\u001b[1;33m)\u001b[0m\u001b[1;33m\u001b[0m\u001b[1;33m\u001b[0m\u001b[0m\n\u001b[0m\u001b[0;32m   3025\u001b[0m             \u001b[1;32mif\u001b[0m \u001b[0mis_integer\u001b[0m\u001b[1;33m(\u001b[0m\u001b[0mindexer\u001b[0m\u001b[1;33m)\u001b[0m\u001b[1;33m:\u001b[0m\u001b[1;33m\u001b[0m\u001b[1;33m\u001b[0m\u001b[0m\n\u001b[0;32m   3026\u001b[0m                 \u001b[0mindexer\u001b[0m \u001b[1;33m=\u001b[0m \u001b[1;33m[\u001b[0m\u001b[0mindexer\u001b[0m\u001b[1;33m]\u001b[0m\u001b[1;33m\u001b[0m\u001b[1;33m\u001b[0m\u001b[0m\n",
      "\u001b[1;32m~\\AppData\\Roaming\\Python\\Python39\\site-packages\\pandas\\core\\indexes\\base.py\u001b[0m in \u001b[0;36mget_loc\u001b[1;34m(self, key, method, tolerance)\u001b[0m\n\u001b[0;32m   3080\u001b[0m                 \u001b[1;32mreturn\u001b[0m \u001b[0mself\u001b[0m\u001b[1;33m.\u001b[0m\u001b[0m_engine\u001b[0m\u001b[1;33m.\u001b[0m\u001b[0mget_loc\u001b[0m\u001b[1;33m(\u001b[0m\u001b[0mcasted_key\u001b[0m\u001b[1;33m)\u001b[0m\u001b[1;33m\u001b[0m\u001b[1;33m\u001b[0m\u001b[0m\n\u001b[0;32m   3081\u001b[0m             \u001b[1;32mexcept\u001b[0m \u001b[0mKeyError\u001b[0m \u001b[1;32mas\u001b[0m \u001b[0merr\u001b[0m\u001b[1;33m:\u001b[0m\u001b[1;33m\u001b[0m\u001b[1;33m\u001b[0m\u001b[0m\n\u001b[1;32m-> 3082\u001b[1;33m                 \u001b[1;32mraise\u001b[0m \u001b[0mKeyError\u001b[0m\u001b[1;33m(\u001b[0m\u001b[0mkey\u001b[0m\u001b[1;33m)\u001b[0m \u001b[1;32mfrom\u001b[0m \u001b[0merr\u001b[0m\u001b[1;33m\u001b[0m\u001b[1;33m\u001b[0m\u001b[0m\n\u001b[0m\u001b[0;32m   3083\u001b[0m \u001b[1;33m\u001b[0m\u001b[0m\n\u001b[0;32m   3084\u001b[0m         \u001b[1;32mif\u001b[0m \u001b[0mtolerance\u001b[0m \u001b[1;32mis\u001b[0m \u001b[1;32mnot\u001b[0m \u001b[1;32mNone\u001b[0m\u001b[1;33m:\u001b[0m\u001b[1;33m\u001b[0m\u001b[1;33m\u001b[0m\u001b[0m\n",
      "\u001b[1;31mKeyError\u001b[0m: ('Country', 'region')"
     ]
    }
   ],
   "source": [
    "dados['Country','region']"
   ]
  },
  {
   "cell_type": "markdown",
   "metadata": {},
   "source": [
    "Vimos que não funciona. \n",
    "\n",
    "Aqui vamos precisar ter os rótulos das colunas em uma lista `['Country','region']` para fazer a pesquisa."
   ]
  },
  {
   "cell_type": "code",
   "execution_count": 79,
   "metadata": {},
   "outputs": [
    {
     "output_type": "execute_result",
     "data": {
      "text/plain": [
       "                 Country              region\n",
       "0                Albania         europe_east\n",
       "1                Algeria        africa_north\n",
       "2                 Angola  africa_sub_saharan\n",
       "3    Antigua and Barbuda       america_north\n",
       "4              Argentina       america_south\n",
       "..                   ...                 ...\n",
       "163              Vanuatu   east_asia_pacific\n",
       "164            Venezuela       america_south\n",
       "165              Vietnam   east_asia_pacific\n",
       "166               Zambia  africa_sub_saharan\n",
       "167             Zimbabwe  africa_sub_saharan\n",
       "\n",
       "[168 rows x 2 columns]"
      ],
      "text/html": "<div>\n<style scoped>\n    .dataframe tbody tr th:only-of-type {\n        vertical-align: middle;\n    }\n\n    .dataframe tbody tr th {\n        vertical-align: top;\n    }\n\n    .dataframe thead th {\n        text-align: right;\n    }\n</style>\n<table border=\"1\" class=\"dataframe\">\n  <thead>\n    <tr style=\"text-align: right;\">\n      <th></th>\n      <th>Country</th>\n      <th>region</th>\n    </tr>\n  </thead>\n  <tbody>\n    <tr>\n      <th>0</th>\n      <td>Albania</td>\n      <td>europe_east</td>\n    </tr>\n    <tr>\n      <th>1</th>\n      <td>Algeria</td>\n      <td>africa_north</td>\n    </tr>\n    <tr>\n      <th>2</th>\n      <td>Angola</td>\n      <td>africa_sub_saharan</td>\n    </tr>\n    <tr>\n      <th>3</th>\n      <td>Antigua and Barbuda</td>\n      <td>america_north</td>\n    </tr>\n    <tr>\n      <th>4</th>\n      <td>Argentina</td>\n      <td>america_south</td>\n    </tr>\n    <tr>\n      <th>...</th>\n      <td>...</td>\n      <td>...</td>\n    </tr>\n    <tr>\n      <th>163</th>\n      <td>Vanuatu</td>\n      <td>east_asia_pacific</td>\n    </tr>\n    <tr>\n      <th>164</th>\n      <td>Venezuela</td>\n      <td>america_south</td>\n    </tr>\n    <tr>\n      <th>165</th>\n      <td>Vietnam</td>\n      <td>east_asia_pacific</td>\n    </tr>\n    <tr>\n      <th>166</th>\n      <td>Zambia</td>\n      <td>africa_sub_saharan</td>\n    </tr>\n    <tr>\n      <th>167</th>\n      <td>Zimbabwe</td>\n      <td>africa_sub_saharan</td>\n    </tr>\n  </tbody>\n</table>\n<p>168 rows × 2 columns</p>\n</div>"
     },
     "metadata": {},
     "execution_count": 79
    }
   ],
   "source": [
    "# Maneira 1:\n",
    "dados[['Country','region']]"
   ]
  },
  {
   "cell_type": "markdown",
   "metadata": {},
   "source": [
    "Outra maneira é usar `.loc[]` como vimos acima. Aqui precisamos indicar que serão selecionadas todas as linhas com `:`."
   ]
  },
  {
   "cell_type": "code",
   "execution_count": 58,
   "metadata": {},
   "outputs": [
    {
     "output_type": "execute_result",
     "data": {
      "text/plain": [
       "                 Country              region\n",
       "0                Albania         europe_east\n",
       "1                Algeria        africa_north\n",
       "2                 Angola  africa_sub_saharan\n",
       "3    Antigua and Barbuda       america_north\n",
       "4              Argentina       america_south\n",
       "..                   ...                 ...\n",
       "163              Vanuatu   east_asia_pacific\n",
       "164            Venezuela       america_south\n",
       "165              Vietnam   east_asia_pacific\n",
       "166               Zambia  africa_sub_saharan\n",
       "167             Zimbabwe  africa_sub_saharan\n",
       "\n",
       "[168 rows x 2 columns]"
      ],
      "text/html": "<div>\n<style scoped>\n    .dataframe tbody tr th:only-of-type {\n        vertical-align: middle;\n    }\n\n    .dataframe tbody tr th {\n        vertical-align: top;\n    }\n\n    .dataframe thead th {\n        text-align: right;\n    }\n</style>\n<table border=\"1\" class=\"dataframe\">\n  <thead>\n    <tr style=\"text-align: right;\">\n      <th></th>\n      <th>Country</th>\n      <th>region</th>\n    </tr>\n  </thead>\n  <tbody>\n    <tr>\n      <th>0</th>\n      <td>Albania</td>\n      <td>europe_east</td>\n    </tr>\n    <tr>\n      <th>1</th>\n      <td>Algeria</td>\n      <td>africa_north</td>\n    </tr>\n    <tr>\n      <th>2</th>\n      <td>Angola</td>\n      <td>africa_sub_saharan</td>\n    </tr>\n    <tr>\n      <th>3</th>\n      <td>Antigua and Barbuda</td>\n      <td>america_north</td>\n    </tr>\n    <tr>\n      <th>4</th>\n      <td>Argentina</td>\n      <td>america_south</td>\n    </tr>\n    <tr>\n      <th>...</th>\n      <td>...</td>\n      <td>...</td>\n    </tr>\n    <tr>\n      <th>163</th>\n      <td>Vanuatu</td>\n      <td>east_asia_pacific</td>\n    </tr>\n    <tr>\n      <th>164</th>\n      <td>Venezuela</td>\n      <td>america_south</td>\n    </tr>\n    <tr>\n      <th>165</th>\n      <td>Vietnam</td>\n      <td>east_asia_pacific</td>\n    </tr>\n    <tr>\n      <th>166</th>\n      <td>Zambia</td>\n      <td>africa_sub_saharan</td>\n    </tr>\n    <tr>\n      <th>167</th>\n      <td>Zimbabwe</td>\n      <td>africa_sub_saharan</td>\n    </tr>\n  </tbody>\n</table>\n<p>168 rows × 2 columns</p>\n</div>"
     },
     "metadata": {},
     "execution_count": 58
    }
   ],
   "source": [
    "# Maneira 2:\n",
    "dados.loc[:,['Country','region']]"
   ]
  },
  {
   "cell_type": "markdown",
   "metadata": {},
   "source": [
    "Por fim, a terceira maneira é usar `iloc` indicando a posição das duas colunas também em lista.\n",
    "\n",
    "Já sabemos que `region` está na pósição $4$. E `Country`?"
   ]
  },
  {
   "cell_type": "code",
   "execution_count": 59,
   "metadata": {},
   "outputs": [
    {
     "output_type": "execute_result",
     "data": {
      "text/plain": [
       "0"
      ]
     },
     "metadata": {},
     "execution_count": 59
    }
   ],
   "source": [
    "list(dados).index('Country')"
   ]
  },
  {
   "cell_type": "code",
   "execution_count": 61,
   "metadata": {},
   "outputs": [
    {
     "output_type": "execute_result",
     "data": {
      "text/plain": [
       "                 Country              region\n",
       "0                Albania         europe_east\n",
       "1                Algeria        africa_north\n",
       "2                 Angola  africa_sub_saharan\n",
       "3    Antigua and Barbuda       america_north\n",
       "4              Argentina       america_south\n",
       "..                   ...                 ...\n",
       "163              Vanuatu   east_asia_pacific\n",
       "164            Venezuela       america_south\n",
       "165              Vietnam   east_asia_pacific\n",
       "166               Zambia  africa_sub_saharan\n",
       "167             Zimbabwe  africa_sub_saharan\n",
       "\n",
       "[168 rows x 2 columns]"
      ],
      "text/html": "<div>\n<style scoped>\n    .dataframe tbody tr th:only-of-type {\n        vertical-align: middle;\n    }\n\n    .dataframe tbody tr th {\n        vertical-align: top;\n    }\n\n    .dataframe thead th {\n        text-align: right;\n    }\n</style>\n<table border=\"1\" class=\"dataframe\">\n  <thead>\n    <tr style=\"text-align: right;\">\n      <th></th>\n      <th>Country</th>\n      <th>region</th>\n    </tr>\n  </thead>\n  <tbody>\n    <tr>\n      <th>0</th>\n      <td>Albania</td>\n      <td>europe_east</td>\n    </tr>\n    <tr>\n      <th>1</th>\n      <td>Algeria</td>\n      <td>africa_north</td>\n    </tr>\n    <tr>\n      <th>2</th>\n      <td>Angola</td>\n      <td>africa_sub_saharan</td>\n    </tr>\n    <tr>\n      <th>3</th>\n      <td>Antigua and Barbuda</td>\n      <td>america_north</td>\n    </tr>\n    <tr>\n      <th>4</th>\n      <td>Argentina</td>\n      <td>america_south</td>\n    </tr>\n    <tr>\n      <th>...</th>\n      <td>...</td>\n      <td>...</td>\n    </tr>\n    <tr>\n      <th>163</th>\n      <td>Vanuatu</td>\n      <td>east_asia_pacific</td>\n    </tr>\n    <tr>\n      <th>164</th>\n      <td>Venezuela</td>\n      <td>america_south</td>\n    </tr>\n    <tr>\n      <th>165</th>\n      <td>Vietnam</td>\n      <td>east_asia_pacific</td>\n    </tr>\n    <tr>\n      <th>166</th>\n      <td>Zambia</td>\n      <td>africa_sub_saharan</td>\n    </tr>\n    <tr>\n      <th>167</th>\n      <td>Zimbabwe</td>\n      <td>africa_sub_saharan</td>\n    </tr>\n  </tbody>\n</table>\n<p>168 rows × 2 columns</p>\n</div>"
     },
     "metadata": {},
     "execution_count": 61
    }
   ],
   "source": [
    "# Maneira 3\n",
    "dados.iloc[:,[0,4]]"
   ]
  },
  {
   "cell_type": "markdown",
   "metadata": {},
   "source": [
    "<div id=\"ex2\"></div>\n",
    "\n",
    "___\n",
    "\n",
    "### EXERCÍCIO 2\n",
    "\n",
    "Selecione as colunas `Country` e `region` com países que possuem PIB per capita acima de $35$ mil."
   ]
  },
  {
   "cell_type": "code",
   "execution_count": 93,
   "metadata": {},
   "outputs": [
    {
     "output_type": "execute_result",
     "data": {
      "text/plain": [
       "        GDPcapita           Country             region\n",
       "66   36207.706219  Hong Kong, China  east_asia_pacific\n",
       "75   39971.787453             Japan  east_asia_pacific\n",
       "86   52222.576674        Luxembourg        europe_west\n",
       "111  39970.292528            Norway        europe_west\n",
       "143  38826.842983       Switzerland        europe_west\n",
       "160  37329.615914     United States      america_north"
      ],
      "text/html": "<div>\n<style scoped>\n    .dataframe tbody tr th:only-of-type {\n        vertical-align: middle;\n    }\n\n    .dataframe tbody tr th {\n        vertical-align: top;\n    }\n\n    .dataframe thead th {\n        text-align: right;\n    }\n</style>\n<table border=\"1\" class=\"dataframe\">\n  <thead>\n    <tr style=\"text-align: right;\">\n      <th></th>\n      <th>GDPcapita</th>\n      <th>Country</th>\n      <th>region</th>\n    </tr>\n  </thead>\n  <tbody>\n    <tr>\n      <th>66</th>\n      <td>36207.706219</td>\n      <td>Hong Kong, China</td>\n      <td>east_asia_pacific</td>\n    </tr>\n    <tr>\n      <th>75</th>\n      <td>39971.787453</td>\n      <td>Japan</td>\n      <td>east_asia_pacific</td>\n    </tr>\n    <tr>\n      <th>86</th>\n      <td>52222.576674</td>\n      <td>Luxembourg</td>\n      <td>europe_west</td>\n    </tr>\n    <tr>\n      <th>111</th>\n      <td>39970.292528</td>\n      <td>Norway</td>\n      <td>europe_west</td>\n    </tr>\n    <tr>\n      <th>143</th>\n      <td>38826.842983</td>\n      <td>Switzerland</td>\n      <td>europe_west</td>\n    </tr>\n    <tr>\n      <th>160</th>\n      <td>37329.615914</td>\n      <td>United States</td>\n      <td>america_north</td>\n    </tr>\n  </tbody>\n</table>\n</div>"
     },
     "metadata": {},
     "execution_count": 93
    }
   ],
   "source": [
    "dados.loc[dados['GDPcapita'] > 35000, ['GDPcapita', 'Country', 'region']]"
   ]
  },
  {
   "cell_type": "markdown",
   "metadata": {},
   "source": [
    "<div id=\"resumo-comandos\"></div>\n",
    "\n",
    "## Resumo dos Comandos\n",
    "\n",
    "Aqui você encontra um resumo dos comandos apresentados neste notebook:\n",
    "\n",
    "- [`read_excel`](#read_excel): abre um arquivo do tipo XLSX;\n",
    "- [`head`](#head): mostra apenas as primeiras linhas do `DataFrame`;\n",
    "- [`tail`](#tail): mostra apenas as últimas linhas do `DataFrame`;\n",
    "- [`sort_values`](#sort_values): devolve um **novo** `DataFrame` com o conteúdo ordenado;\n",
    "- [`loc`](#loc): acessa um subconjunto de linhas e/ou colunas considerando seus respectivos rótulos no DataFrame.\n",
    "- [`iloc`](#iloc): acessa um subconjunto de linhas e/ou colunas considerando números inteiros para indicar a posição.\n",
    "\n",
    "\n",
    "Consulte [aqui](https://medium.com/horadecodar/data-science-tips-02-como-usar-loc-e-iloc-no-pandas-fab58e214d87) estudar mais sobre `loc` e `iloc`."
   ]
  }
 ],
 "metadata": {
  "kernelspec": {
   "name": "python3",
   "display_name": "Python 3.9.2 64-bit",
   "metadata": {
    "interpreter": {
     "hash": "ac59ebe37160ed0dfa835113d9b8498d9f09ceb179beaac4002f036b9467c963"
    }
   }
  },
  "language_info": {
   "codemirror_mode": {
    "name": "ipython",
    "version": 3
   },
   "file_extension": ".py",
   "mimetype": "text/x-python",
   "name": "python",
   "nbconvert_exporter": "python",
   "pygments_lexer": "ipython3",
   "version": "3.9.2-final"
  }
 },
 "nbformat": 4,
 "nbformat_minor": 4
}