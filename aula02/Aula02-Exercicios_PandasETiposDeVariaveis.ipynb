{
 "cells": [
  {
   "cell_type": "markdown",
   "metadata": {},
   "source": [
    "___\n",
    "# Análise Exploratória: Tipos de Variáveis e Medidas Resumo\n",
    "\n",
    "## Aula 02 - Exercícios\n",
    "___"
   ]
  },
  {
   "cell_type": "markdown",
   "metadata": {},
   "source": [
    "## Índice\n",
    "\n",
    "- [Empresa de TV](#empresa-de-tv)\n",
    "    - [Tipos de variáveis](#tipos-de-variaveis)\n",
    "    - [Exercício 1](#ex1)\n",
    "- [Indo além...](#indo-alem)\n",
    "    - [Exercício 1](#exe1)\n",
    "    - [Exercício 2](#exe2)\n",
    "    - [Exercício 3](#exe3)\n",
    "    - [Exercício 4](#exe4)\n",
    "    - [Exercício 5](#exe5)\n",
    "    - [Exercício 6](#exe6)\n",
    "    - [Exercício 7](#exe7)\n",
    "- [Lista de comandos utilizados neste notebook](#comandos)\n",
    "\n",
    "\n",
    "___"
   ]
  },
  {
   "cell_type": "markdown",
   "metadata": {},
   "source": [
    "<div id=\"empresa-de-tv\"></div>\n",
    "\n",
    "## Empresa de TV\n",
    "\n",
    "Uma empresa de TV via satélite criou recentemente dois tipos de planos de canais (A e B).\n",
    "\n",
    "A empresa tem como objetivo estudar o perfil dos clientes que aderiram ao plano para enviar malas diretas aos potenciais clientes de cada tipo de plano.\n",
    "\n",
    "A base de dados apresenta algumas variáveis para uma amostra de 82 clientes selecionados aleatoriamente dentre aqueles que aderiram aos planos. As variáveis têm os seguintes significados:\n",
    "\n",
    "* CLIENTE: identificador do cliente.\n",
    "* PLANO: apresenta o plano adquirido pelo cliente – (1=A ou 2=B). \n",
    "* EC: apresenta estado civil do cliente no momento da adesão ao  plano – (1=Casado, 2=Solteiro e 3=Outros).\n",
    "* SATISFACAO: grau de satisfação do cliente pelo plano – \n",
    "\t(5=Muito satisfeito, 4=Satisfeito, 3=Indiferente, 2=Insatisfeito e 1=Muito insatisfeito).\n",
    "* RENDA: renda pessoal do cliente, em milhares de reais.\n",
    "\n",
    "O arquivo `EmpresaTV Cod.xlsx` contém as variáveis descritas acima.\n"
   ]
  },
  {
   "cell_type": "code",
   "execution_count": 31,
   "metadata": {},
   "outputs": [],
   "source": [
    "%matplotlib inline\n",
    "import pandas as pd\n",
    "import os"
   ]
  },
  {
   "cell_type": "code",
   "execution_count": 32,
   "metadata": {},
   "outputs": [
    {
     "output_type": "stream",
     "name": "stdout",
     "text": [
      "Esperamos trabalhar no diretório\nc:\\Users\\rodrigo\\Desktop\\CD21-1\\aula02\n"
     ]
    }
   ],
   "source": [
    "# Listando o diretório de trabalho. Lembre-se que o arquivo com a base de dados precisa estar neste diretório.\n",
    "print('Esperamos trabalhar no diretório')\n",
    "print(os.getcwd())"
   ]
  },
  {
   "cell_type": "code",
   "execution_count": 33,
   "metadata": {},
   "outputs": [],
   "source": [
    "# Carregando os dados do arquivo\n",
    "dados = pd.read_excel('EmpresaTV Cod.xlsx')"
   ]
  },
  {
   "cell_type": "code",
   "execution_count": 34,
   "metadata": {},
   "outputs": [],
   "source": [
    "dados['PLANO'] = dados['PLANO'].astype('category')\n",
    "dados['EC'] = dados['EC'].astype('category')\n",
    "dados['SATISFACAO'] = dados['SATISFACAO'].astype('category')"
   ]
  },
  {
   "cell_type": "code",
   "execution_count": 35,
   "metadata": {},
   "outputs": [],
   "source": [
    "dados['PLANO'].cat.categories = ['A', 'B']\n",
    "dados['EC'].cat.categories = ['Casado', 'Solteiro', 'Outros']\n",
    "dados['SATISFACAO'].cat.categories = ['Muito Insatisfeito', 'Insatisfeito', 'Indiferente', 'Satisfeito', 'Muito Satisfeito']"
   ]
  },
  {
   "cell_type": "code",
   "execution_count": 36,
   "metadata": {
    "scrolled": true
   },
   "outputs": [
    {
     "output_type": "execute_result",
     "data": {
      "text/plain": [
       "   CLIENTE PLANO        EC        SATISFACAO  RENDA  Unnamed: 5  Unnamed: 6\n",
       "0        1     A    Casado  Muito Satisfeito   21.4         NaN         NaN\n",
       "1        2     A  Solteiro  Muito Satisfeito   17.2         NaN         NaN\n",
       "2        3     A    Outros  Muito Satisfeito   15.6         NaN         NaN\n",
       "3        4     A    Casado        Satisfeito   10.4         NaN         NaN\n",
       "4        5     A  Solteiro  Muito Satisfeito   17.6         NaN         NaN"
      ],
      "text/html": "<div>\n<style scoped>\n    .dataframe tbody tr th:only-of-type {\n        vertical-align: middle;\n    }\n\n    .dataframe tbody tr th {\n        vertical-align: top;\n    }\n\n    .dataframe thead th {\n        text-align: right;\n    }\n</style>\n<table border=\"1\" class=\"dataframe\">\n  <thead>\n    <tr style=\"text-align: right;\">\n      <th></th>\n      <th>CLIENTE</th>\n      <th>PLANO</th>\n      <th>EC</th>\n      <th>SATISFACAO</th>\n      <th>RENDA</th>\n      <th>Unnamed: 5</th>\n      <th>Unnamed: 6</th>\n    </tr>\n  </thead>\n  <tbody>\n    <tr>\n      <th>0</th>\n      <td>1</td>\n      <td>A</td>\n      <td>Casado</td>\n      <td>Muito Satisfeito</td>\n      <td>21.4</td>\n      <td>NaN</td>\n      <td>NaN</td>\n    </tr>\n    <tr>\n      <th>1</th>\n      <td>2</td>\n      <td>A</td>\n      <td>Solteiro</td>\n      <td>Muito Satisfeito</td>\n      <td>17.2</td>\n      <td>NaN</td>\n      <td>NaN</td>\n    </tr>\n    <tr>\n      <th>2</th>\n      <td>3</td>\n      <td>A</td>\n      <td>Outros</td>\n      <td>Muito Satisfeito</td>\n      <td>15.6</td>\n      <td>NaN</td>\n      <td>NaN</td>\n    </tr>\n    <tr>\n      <th>3</th>\n      <td>4</td>\n      <td>A</td>\n      <td>Casado</td>\n      <td>Satisfeito</td>\n      <td>10.4</td>\n      <td>NaN</td>\n      <td>NaN</td>\n    </tr>\n    <tr>\n      <th>4</th>\n      <td>5</td>\n      <td>A</td>\n      <td>Solteiro</td>\n      <td>Muito Satisfeito</td>\n      <td>17.6</td>\n      <td>NaN</td>\n      <td>NaN</td>\n    </tr>\n  </tbody>\n</table>\n</div>"
     },
     "metadata": {},
     "execution_count": 36
    }
   ],
   "source": [
    "# Visualizando as cinco primeiras linhas\n",
    "dados.head(5)"
   ]
  },
  {
   "cell_type": "markdown",
   "metadata": {},
   "source": [
    "<div id=\"indo-alem\"></div>\n",
    "\n",
    "___\n",
    "\n",
    "## Indo além...\n",
    "\n",
    "Os exercícios a seguir integram conceitos vistos nas últimas duas aulas.\n",
    "\n",
    "**DICA**: os exercícios marcados com &#x2605;&#x2605;&#x2605; são mais difíceis e vão exigir que você aprenda novas funções do pandas. Recomendamos que vocês tentem fazer esses exercícios mesmo depois da aula.\n",
    "___"
   ]
  },
  {
   "cell_type": "markdown",
   "metadata": {},
   "source": [
    "<div id=\"exe1\"></div>\n",
    "\n",
    "### EXERCÍCIO 1\n",
    "\n",
    "A coluna SATISFACAO está com uma granularidade muito grande para algumas análises. Crie uma coluna `SENTIMENTO` no `DataFrame` com as seguintes categorias:\n",
    "\n",
    "    Não curtiu, se SATISFACAO = Insatisfeito ou Muito Insatisfeito\n",
    "    Indiferente, se SATISFACAO = Indiferente\n",
    "    Curtiu, se SATISFACAO = Satisfeito ou Muito Satisfeito"
   ]
  },
  {
   "cell_type": "code",
   "execution_count": 56,
   "metadata": {},
   "outputs": [
    {
     "output_type": "execute_result",
     "data": {
      "text/plain": [
       "    CLIENTE PLANO        EC          SATISFACAO  RENDA  Unnamed: 5  \\\n",
       "0         1     A    Casado    Muito Satisfeito   21.4         NaN   \n",
       "1         2     A  Solteiro    Muito Satisfeito   17.2         NaN   \n",
       "2         3     A    Outros    Muito Satisfeito   15.6         NaN   \n",
       "3         4     A    Casado          Satisfeito   10.4         NaN   \n",
       "4         5     A  Solteiro    Muito Satisfeito   17.6         NaN   \n",
       "..      ...   ...       ...                 ...    ...         ...   \n",
       "77        0     B    Outros        Insatisfeito    4.3         NaN   \n",
       "78        0     B  Solteiro        Insatisfeito    5.7         NaN   \n",
       "79        0     B    Casado        Insatisfeito    4.0         NaN   \n",
       "80        0     B    Outros        Insatisfeito    5.4         NaN   \n",
       "81       82     B    Casado  Muito Insatisfeito    0.6         NaN   \n",
       "\n",
       "    Unnamed: 6 SENTIMENTO  \n",
       "0          NaN          2  \n",
       "1          NaN          2  \n",
       "2          NaN          2  \n",
       "3          NaN          2  \n",
       "4          NaN          2  \n",
       "..         ...        ...  \n",
       "77         NaN          0  \n",
       "78         NaN          0  \n",
       "79         NaN          0  \n",
       "80         NaN          0  \n",
       "81         NaN          0  \n",
       "\n",
       "[82 rows x 8 columns]"
      ],
      "text/html": "<div>\n<style scoped>\n    .dataframe tbody tr th:only-of-type {\n        vertical-align: middle;\n    }\n\n    .dataframe tbody tr th {\n        vertical-align: top;\n    }\n\n    .dataframe thead th {\n        text-align: right;\n    }\n</style>\n<table border=\"1\" class=\"dataframe\">\n  <thead>\n    <tr style=\"text-align: right;\">\n      <th></th>\n      <th>CLIENTE</th>\n      <th>PLANO</th>\n      <th>EC</th>\n      <th>SATISFACAO</th>\n      <th>RENDA</th>\n      <th>Unnamed: 5</th>\n      <th>Unnamed: 6</th>\n      <th>SENTIMENTO</th>\n    </tr>\n  </thead>\n  <tbody>\n    <tr>\n      <th>0</th>\n      <td>1</td>\n      <td>A</td>\n      <td>Casado</td>\n      <td>Muito Satisfeito</td>\n      <td>21.4</td>\n      <td>NaN</td>\n      <td>NaN</td>\n      <td>2</td>\n    </tr>\n    <tr>\n      <th>1</th>\n      <td>2</td>\n      <td>A</td>\n      <td>Solteiro</td>\n      <td>Muito Satisfeito</td>\n      <td>17.2</td>\n      <td>NaN</td>\n      <td>NaN</td>\n      <td>2</td>\n    </tr>\n    <tr>\n      <th>2</th>\n      <td>3</td>\n      <td>A</td>\n      <td>Outros</td>\n      <td>Muito Satisfeito</td>\n      <td>15.6</td>\n      <td>NaN</td>\n      <td>NaN</td>\n      <td>2</td>\n    </tr>\n    <tr>\n      <th>3</th>\n      <td>4</td>\n      <td>A</td>\n      <td>Casado</td>\n      <td>Satisfeito</td>\n      <td>10.4</td>\n      <td>NaN</td>\n      <td>NaN</td>\n      <td>2</td>\n    </tr>\n    <tr>\n      <th>4</th>\n      <td>5</td>\n      <td>A</td>\n      <td>Solteiro</td>\n      <td>Muito Satisfeito</td>\n      <td>17.6</td>\n      <td>NaN</td>\n      <td>NaN</td>\n      <td>2</td>\n    </tr>\n    <tr>\n      <th>...</th>\n      <td>...</td>\n      <td>...</td>\n      <td>...</td>\n      <td>...</td>\n      <td>...</td>\n      <td>...</td>\n      <td>...</td>\n      <td>...</td>\n    </tr>\n    <tr>\n      <th>77</th>\n      <td>0</td>\n      <td>B</td>\n      <td>Outros</td>\n      <td>Insatisfeito</td>\n      <td>4.3</td>\n      <td>NaN</td>\n      <td>NaN</td>\n      <td>0</td>\n    </tr>\n    <tr>\n      <th>78</th>\n      <td>0</td>\n      <td>B</td>\n      <td>Solteiro</td>\n      <td>Insatisfeito</td>\n      <td>5.7</td>\n      <td>NaN</td>\n      <td>NaN</td>\n      <td>0</td>\n    </tr>\n    <tr>\n      <th>79</th>\n      <td>0</td>\n      <td>B</td>\n      <td>Casado</td>\n      <td>Insatisfeito</td>\n      <td>4.0</td>\n      <td>NaN</td>\n      <td>NaN</td>\n      <td>0</td>\n    </tr>\n    <tr>\n      <th>80</th>\n      <td>0</td>\n      <td>B</td>\n      <td>Outros</td>\n      <td>Insatisfeito</td>\n      <td>5.4</td>\n      <td>NaN</td>\n      <td>NaN</td>\n      <td>0</td>\n    </tr>\n    <tr>\n      <th>81</th>\n      <td>82</td>\n      <td>B</td>\n      <td>Casado</td>\n      <td>Muito Insatisfeito</td>\n      <td>0.6</td>\n      <td>NaN</td>\n      <td>NaN</td>\n      <td>0</td>\n    </tr>\n  </tbody>\n</table>\n<p>82 rows × 8 columns</p>\n</div>"
     },
     "metadata": {},
     "execution_count": 56
    }
   ],
   "source": [
    "dados['SENTIMENTO'] = ''\n",
    "dados.loc[dados['SATISFACAO'] == 'Muito Insatisfeito', 'SENTIMENTO'] = 0\n",
    "dados.loc[dados['SATISFACAO'] == 'Insatisfeito', 'SENTIMENTO'] = 0\n",
    "dados.loc[dados['SATISFACAO'] == 'Indiferente', 'SENTIMENTO'] = 1\n",
    "dados.loc[dados['SATISFACAO'] == 'Satisfeito', 'SENTIMENTO'] = 2\n",
    "dados.loc[dados['SATISFACAO'] == 'Muito Satisfeito', 'SENTIMENTO'] = 2\n",
    "dados"
   ]
  },
  {
   "cell_type": "code",
   "execution_count": 57,
   "metadata": {},
   "outputs": [
    {
     "output_type": "execute_result",
     "data": {
      "text/plain": [
       "    CLIENTE PLANO        EC          SATISFACAO  RENDA  Unnamed: 5  \\\n",
       "0         1     A    Casado    Muito Satisfeito   21.4         NaN   \n",
       "1         2     A  Solteiro    Muito Satisfeito   17.2         NaN   \n",
       "2         3     A    Outros    Muito Satisfeito   15.6         NaN   \n",
       "3         4     A    Casado          Satisfeito   10.4         NaN   \n",
       "4         5     A  Solteiro    Muito Satisfeito   17.6         NaN   \n",
       "..      ...   ...       ...                 ...    ...         ...   \n",
       "77        0     B    Outros        Insatisfeito    4.3         NaN   \n",
       "78        0     B  Solteiro        Insatisfeito    5.7         NaN   \n",
       "79        0     B    Casado        Insatisfeito    4.0         NaN   \n",
       "80        0     B    Outros        Insatisfeito    5.4         NaN   \n",
       "81       82     B    Casado  Muito Insatisfeito    0.6         NaN   \n",
       "\n",
       "    Unnamed: 6  SENTIMENTO  \n",
       "0          NaN      Curtiu  \n",
       "1          NaN      Curtiu  \n",
       "2          NaN      Curtiu  \n",
       "3          NaN      Curtiu  \n",
       "4          NaN      Curtiu  \n",
       "..         ...         ...  \n",
       "77         NaN  Não curtiu  \n",
       "78         NaN  Não curtiu  \n",
       "79         NaN  Não curtiu  \n",
       "80         NaN  Não curtiu  \n",
       "81         NaN  Não curtiu  \n",
       "\n",
       "[82 rows x 8 columns]"
      ],
      "text/html": "<div>\n<style scoped>\n    .dataframe tbody tr th:only-of-type {\n        vertical-align: middle;\n    }\n\n    .dataframe tbody tr th {\n        vertical-align: top;\n    }\n\n    .dataframe thead th {\n        text-align: right;\n    }\n</style>\n<table border=\"1\" class=\"dataframe\">\n  <thead>\n    <tr style=\"text-align: right;\">\n      <th></th>\n      <th>CLIENTE</th>\n      <th>PLANO</th>\n      <th>EC</th>\n      <th>SATISFACAO</th>\n      <th>RENDA</th>\n      <th>Unnamed: 5</th>\n      <th>Unnamed: 6</th>\n      <th>SENTIMENTO</th>\n    </tr>\n  </thead>\n  <tbody>\n    <tr>\n      <th>0</th>\n      <td>1</td>\n      <td>A</td>\n      <td>Casado</td>\n      <td>Muito Satisfeito</td>\n      <td>21.4</td>\n      <td>NaN</td>\n      <td>NaN</td>\n      <td>Curtiu</td>\n    </tr>\n    <tr>\n      <th>1</th>\n      <td>2</td>\n      <td>A</td>\n      <td>Solteiro</td>\n      <td>Muito Satisfeito</td>\n      <td>17.2</td>\n      <td>NaN</td>\n      <td>NaN</td>\n      <td>Curtiu</td>\n    </tr>\n    <tr>\n      <th>2</th>\n      <td>3</td>\n      <td>A</td>\n      <td>Outros</td>\n      <td>Muito Satisfeito</td>\n      <td>15.6</td>\n      <td>NaN</td>\n      <td>NaN</td>\n      <td>Curtiu</td>\n    </tr>\n    <tr>\n      <th>3</th>\n      <td>4</td>\n      <td>A</td>\n      <td>Casado</td>\n      <td>Satisfeito</td>\n      <td>10.4</td>\n      <td>NaN</td>\n      <td>NaN</td>\n      <td>Curtiu</td>\n    </tr>\n    <tr>\n      <th>4</th>\n      <td>5</td>\n      <td>A</td>\n      <td>Solteiro</td>\n      <td>Muito Satisfeito</td>\n      <td>17.6</td>\n      <td>NaN</td>\n      <td>NaN</td>\n      <td>Curtiu</td>\n    </tr>\n    <tr>\n      <th>...</th>\n      <td>...</td>\n      <td>...</td>\n      <td>...</td>\n      <td>...</td>\n      <td>...</td>\n      <td>...</td>\n      <td>...</td>\n      <td>...</td>\n    </tr>\n    <tr>\n      <th>77</th>\n      <td>0</td>\n      <td>B</td>\n      <td>Outros</td>\n      <td>Insatisfeito</td>\n      <td>4.3</td>\n      <td>NaN</td>\n      <td>NaN</td>\n      <td>Não curtiu</td>\n    </tr>\n    <tr>\n      <th>78</th>\n      <td>0</td>\n      <td>B</td>\n      <td>Solteiro</td>\n      <td>Insatisfeito</td>\n      <td>5.7</td>\n      <td>NaN</td>\n      <td>NaN</td>\n      <td>Não curtiu</td>\n    </tr>\n    <tr>\n      <th>79</th>\n      <td>0</td>\n      <td>B</td>\n      <td>Casado</td>\n      <td>Insatisfeito</td>\n      <td>4.0</td>\n      <td>NaN</td>\n      <td>NaN</td>\n      <td>Não curtiu</td>\n    </tr>\n    <tr>\n      <th>80</th>\n      <td>0</td>\n      <td>B</td>\n      <td>Outros</td>\n      <td>Insatisfeito</td>\n      <td>5.4</td>\n      <td>NaN</td>\n      <td>NaN</td>\n      <td>Não curtiu</td>\n    </tr>\n    <tr>\n      <th>81</th>\n      <td>82</td>\n      <td>B</td>\n      <td>Casado</td>\n      <td>Muito Insatisfeito</td>\n      <td>0.6</td>\n      <td>NaN</td>\n      <td>NaN</td>\n      <td>Não curtiu</td>\n    </tr>\n  </tbody>\n</table>\n<p>82 rows × 8 columns</p>\n</div>"
     },
     "metadata": {},
     "execution_count": 57
    }
   ],
   "source": [
    "dados['SENTIMENTO'] = dados['SENTIMENTO'].astype('category')\n",
    "dados['SENTIMENTO'].cat.categories = ['Não curtiu', 'Indiferente', 'Curtiu']\n",
    "dados"
   ]
  },
  {
   "cell_type": "markdown",
   "metadata": {},
   "source": [
    "<div id=\"exe2\"></div>\n",
    "\n",
    "### EXERCÍCIO 2 &#x2605;&#x2605;&#x2605;\n",
    "\n",
    "Monte uma tabela cruzada de sentimento versus plano e estado civil. \n",
    "\n",
    "**DICA 1**: a função `pd.crosstab` pode receber uma lista de `Series` (colunas de um `DataFrame`).\n",
    "\n",
    "**DICA 2**: pesquise por \"pandas crosstab multiple columns\"."
   ]
  },
  {
   "cell_type": "code",
   "execution_count": 59,
   "metadata": {},
   "outputs": [
    {
     "output_type": "execute_result",
     "data": {
      "text/plain": [
       "SENTIMENTO      Não curtiu  Indiferente  Curtiu\n",
       "PLANO EC                                       \n",
       "A     Casado             4            3      19\n",
       "      Solteiro           0            3      10\n",
       "      Outros             3            1       3\n",
       "B     Casado             4            2       4\n",
       "      Solteiro           8            9       3\n",
       "      Outros             5            1       0"
      ],
      "text/html": "<div>\n<style scoped>\n    .dataframe tbody tr th:only-of-type {\n        vertical-align: middle;\n    }\n\n    .dataframe tbody tr th {\n        vertical-align: top;\n    }\n\n    .dataframe thead th {\n        text-align: right;\n    }\n</style>\n<table border=\"1\" class=\"dataframe\">\n  <thead>\n    <tr style=\"text-align: right;\">\n      <th></th>\n      <th>SENTIMENTO</th>\n      <th>Não curtiu</th>\n      <th>Indiferente</th>\n      <th>Curtiu</th>\n    </tr>\n    <tr>\n      <th>PLANO</th>\n      <th>EC</th>\n      <th></th>\n      <th></th>\n      <th></th>\n    </tr>\n  </thead>\n  <tbody>\n    <tr>\n      <th rowspan=\"3\" valign=\"top\">A</th>\n      <th>Casado</th>\n      <td>4</td>\n      <td>3</td>\n      <td>19</td>\n    </tr>\n    <tr>\n      <th>Solteiro</th>\n      <td>0</td>\n      <td>3</td>\n      <td>10</td>\n    </tr>\n    <tr>\n      <th>Outros</th>\n      <td>3</td>\n      <td>1</td>\n      <td>3</td>\n    </tr>\n    <tr>\n      <th rowspan=\"3\" valign=\"top\">B</th>\n      <th>Casado</th>\n      <td>4</td>\n      <td>2</td>\n      <td>4</td>\n    </tr>\n    <tr>\n      <th>Solteiro</th>\n      <td>8</td>\n      <td>9</td>\n      <td>3</td>\n    </tr>\n    <tr>\n      <th>Outros</th>\n      <td>5</td>\n      <td>1</td>\n      <td>0</td>\n    </tr>\n  </tbody>\n</table>\n</div>"
     },
     "metadata": {},
     "execution_count": 59
    }
   ],
   "source": [
    "pd.crosstab([dados['PLANO'], dados['EC']],dados['SENTIMENTO'])"
   ]
  },
  {
   "cell_type": "markdown",
   "metadata": {},
   "source": [
    "<div id=\"exe3\"></div>\n",
    "\n",
    "### EXERCÍCIO 3\n",
    "\n",
    "Que hipóteses você pode formular a partir dessa tabela?"
   ]
  },
  {
   "cell_type": "raw",
   "metadata": {},
   "source": [
    "ESCREVA SUA RESPOSTA AQUI"
   ]
  },
  {
   "cell_type": "markdown",
   "metadata": {},
   "source": [
    "<div id=\"exe4\"></div>\n",
    "\n",
    "### EXERCÍCIO 4 &#x2605;&#x2605;&#x2605;\n",
    "\n",
    "Anteriormente, vimos que não faz sentido realizar certas operações com a variável renda devido ao seu tipo de variável. Crie uma nova coluna em `dados` chamada FAIXA_DE_RENDA. Essa nova variável deve dividir a renda de todos os clientes em 3 faixas iguais (veremos que isso não necessariamente é uma boa ideia, mas vamos começar com essa análise simplificada).\n",
    "\n",
    "<div id=\"cut\"></div>\n",
    "\n",
    "**DICA**: a função `pd.cut` pode ser útil para resolver este exercício."
   ]
  },
  {
   "cell_type": "code",
   "execution_count": 86,
   "metadata": {},
   "outputs": [
    {
     "output_type": "execute_result",
     "data": {
      "text/plain": [
       "    CLIENTE PLANO        EC          SATISFACAO  RENDA  Unnamed: 5  \\\n",
       "0         1     A    Casado    Muito Satisfeito   21.4         NaN   \n",
       "1         2     A  Solteiro    Muito Satisfeito   17.2         NaN   \n",
       "2         3     A    Outros    Muito Satisfeito   15.6         NaN   \n",
       "3         4     A    Casado          Satisfeito   10.4         NaN   \n",
       "4         5     A  Solteiro    Muito Satisfeito   17.6         NaN   \n",
       "..      ...   ...       ...                 ...    ...         ...   \n",
       "77        0     B    Outros        Insatisfeito    4.3         NaN   \n",
       "78        0     B  Solteiro        Insatisfeito    5.7         NaN   \n",
       "79        0     B    Casado        Insatisfeito    4.0         NaN   \n",
       "80        0     B    Outros        Insatisfeito    5.4         NaN   \n",
       "81       82     B    Casado  Muito Insatisfeito    0.6         NaN   \n",
       "\n",
       "    Unnamed: 6  SENTIMENTO FAIXA_DE_RENDA  \n",
       "0          NaN      Curtiu       (16, 24]  \n",
       "1          NaN      Curtiu       (16, 24]  \n",
       "2          NaN      Curtiu        (8, 16]  \n",
       "3          NaN      Curtiu        (8, 16]  \n",
       "4          NaN      Curtiu       (16, 24]  \n",
       "..         ...         ...            ...  \n",
       "77         NaN  Não curtiu         (0, 8]  \n",
       "78         NaN  Não curtiu         (0, 8]  \n",
       "79         NaN  Não curtiu         (0, 8]  \n",
       "80         NaN  Não curtiu         (0, 8]  \n",
       "81         NaN  Não curtiu         (0, 8]  \n",
       "\n",
       "[82 rows x 9 columns]"
      ],
      "text/html": "<div>\n<style scoped>\n    .dataframe tbody tr th:only-of-type {\n        vertical-align: middle;\n    }\n\n    .dataframe tbody tr th {\n        vertical-align: top;\n    }\n\n    .dataframe thead th {\n        text-align: right;\n    }\n</style>\n<table border=\"1\" class=\"dataframe\">\n  <thead>\n    <tr style=\"text-align: right;\">\n      <th></th>\n      <th>CLIENTE</th>\n      <th>PLANO</th>\n      <th>EC</th>\n      <th>SATISFACAO</th>\n      <th>RENDA</th>\n      <th>Unnamed: 5</th>\n      <th>Unnamed: 6</th>\n      <th>SENTIMENTO</th>\n      <th>FAIXA_DE_RENDA</th>\n    </tr>\n  </thead>\n  <tbody>\n    <tr>\n      <th>0</th>\n      <td>1</td>\n      <td>A</td>\n      <td>Casado</td>\n      <td>Muito Satisfeito</td>\n      <td>21.4</td>\n      <td>NaN</td>\n      <td>NaN</td>\n      <td>Curtiu</td>\n      <td>(16, 24]</td>\n    </tr>\n    <tr>\n      <th>1</th>\n      <td>2</td>\n      <td>A</td>\n      <td>Solteiro</td>\n      <td>Muito Satisfeito</td>\n      <td>17.2</td>\n      <td>NaN</td>\n      <td>NaN</td>\n      <td>Curtiu</td>\n      <td>(16, 24]</td>\n    </tr>\n    <tr>\n      <th>2</th>\n      <td>3</td>\n      <td>A</td>\n      <td>Outros</td>\n      <td>Muito Satisfeito</td>\n      <td>15.6</td>\n      <td>NaN</td>\n      <td>NaN</td>\n      <td>Curtiu</td>\n      <td>(8, 16]</td>\n    </tr>\n    <tr>\n      <th>3</th>\n      <td>4</td>\n      <td>A</td>\n      <td>Casado</td>\n      <td>Satisfeito</td>\n      <td>10.4</td>\n      <td>NaN</td>\n      <td>NaN</td>\n      <td>Curtiu</td>\n      <td>(8, 16]</td>\n    </tr>\n    <tr>\n      <th>4</th>\n      <td>5</td>\n      <td>A</td>\n      <td>Solteiro</td>\n      <td>Muito Satisfeito</td>\n      <td>17.6</td>\n      <td>NaN</td>\n      <td>NaN</td>\n      <td>Curtiu</td>\n      <td>(16, 24]</td>\n    </tr>\n    <tr>\n      <th>...</th>\n      <td>...</td>\n      <td>...</td>\n      <td>...</td>\n      <td>...</td>\n      <td>...</td>\n      <td>...</td>\n      <td>...</td>\n      <td>...</td>\n      <td>...</td>\n    </tr>\n    <tr>\n      <th>77</th>\n      <td>0</td>\n      <td>B</td>\n      <td>Outros</td>\n      <td>Insatisfeito</td>\n      <td>4.3</td>\n      <td>NaN</td>\n      <td>NaN</td>\n      <td>Não curtiu</td>\n      <td>(0, 8]</td>\n    </tr>\n    <tr>\n      <th>78</th>\n      <td>0</td>\n      <td>B</td>\n      <td>Solteiro</td>\n      <td>Insatisfeito</td>\n      <td>5.7</td>\n      <td>NaN</td>\n      <td>NaN</td>\n      <td>Não curtiu</td>\n      <td>(0, 8]</td>\n    </tr>\n    <tr>\n      <th>79</th>\n      <td>0</td>\n      <td>B</td>\n      <td>Casado</td>\n      <td>Insatisfeito</td>\n      <td>4.0</td>\n      <td>NaN</td>\n      <td>NaN</td>\n      <td>Não curtiu</td>\n      <td>(0, 8]</td>\n    </tr>\n    <tr>\n      <th>80</th>\n      <td>0</td>\n      <td>B</td>\n      <td>Outros</td>\n      <td>Insatisfeito</td>\n      <td>5.4</td>\n      <td>NaN</td>\n      <td>NaN</td>\n      <td>Não curtiu</td>\n      <td>(0, 8]</td>\n    </tr>\n    <tr>\n      <th>81</th>\n      <td>82</td>\n      <td>B</td>\n      <td>Casado</td>\n      <td>Muito Insatisfeito</td>\n      <td>0.6</td>\n      <td>NaN</td>\n      <td>NaN</td>\n      <td>Não curtiu</td>\n      <td>(0, 8]</td>\n    </tr>\n  </tbody>\n</table>\n<p>82 rows × 9 columns</p>\n</div>"
     },
     "metadata": {},
     "execution_count": 86
    }
   ],
   "source": [
    "dados['FAIXA_DE_RENDA'] = pd.cut(dados['RENDA'], [0,8,16,24])\n",
    "dados"
   ]
  },
  {
   "cell_type": "markdown",
   "metadata": {},
   "source": [
    "<div id=\"exe5\"></div>\n",
    "\n",
    "### EXERCÍCIO 5\n",
    "\n",
    "Monte uma tabela cruzada de sentimento versus plano e faixa de renda."
   ]
  },
  {
   "cell_type": "code",
   "execution_count": 88,
   "metadata": {},
   "outputs": [
    {
     "output_type": "execute_result",
     "data": {
      "text/plain": [
       "SENTIMENTO      Não curtiu  Indiferente  Curtiu\n",
       "FAIXA_DE_RENDA                                 \n",
       "(0, 8]                  24           15       4\n",
       "(8, 16]                  0            4      29\n",
       "(16, 24]                 0            0       6"
      ],
      "text/html": "<div>\n<style scoped>\n    .dataframe tbody tr th:only-of-type {\n        vertical-align: middle;\n    }\n\n    .dataframe tbody tr th {\n        vertical-align: top;\n    }\n\n    .dataframe thead th {\n        text-align: right;\n    }\n</style>\n<table border=\"1\" class=\"dataframe\">\n  <thead>\n    <tr style=\"text-align: right;\">\n      <th>SENTIMENTO</th>\n      <th>Não curtiu</th>\n      <th>Indiferente</th>\n      <th>Curtiu</th>\n    </tr>\n    <tr>\n      <th>FAIXA_DE_RENDA</th>\n      <th></th>\n      <th></th>\n      <th></th>\n    </tr>\n  </thead>\n  <tbody>\n    <tr>\n      <th>(0, 8]</th>\n      <td>24</td>\n      <td>15</td>\n      <td>4</td>\n    </tr>\n    <tr>\n      <th>(8, 16]</th>\n      <td>0</td>\n      <td>4</td>\n      <td>29</td>\n    </tr>\n    <tr>\n      <th>(16, 24]</th>\n      <td>0</td>\n      <td>0</td>\n      <td>6</td>\n    </tr>\n  </tbody>\n</table>\n</div>"
     },
     "metadata": {},
     "execution_count": 88
    }
   ],
   "source": [
    "pd.crosstab(dados['FAIXA_DE_RENDA'], dados['SENTIMENTO'])"
   ]
  },
  {
   "cell_type": "markdown",
   "metadata": {},
   "source": [
    "<div id=\"exe6\"></div>\n",
    "\n",
    "### EXERCÍCIO 6\n",
    "\n",
    "Por que não faria sentido montar uma tabela cruzada utilizando a variável RENDA no lugar de FAIXA_DE_RENDA?"
   ]
  },
  {
   "cell_type": "raw",
   "metadata": {},
   "source": [
    "ESCREVA SUA RESPOSTA AQUI"
   ]
  },
  {
   "cell_type": "markdown",
   "metadata": {},
   "source": [
    "<div id=\"exe7\"></div>\n",
    "\n",
    "### EXERCÍCIO 7\n",
    "\n",
    "<div id=\"groupby\"></div>\n",
    "\n",
    "Reveja a função `.groupby` e utilize-a para imprimir as medidas resumo dos planos A e B, separadamente.\n",
    "\n",
    "**DICA**: você pode usar a função `.describe()`."
   ]
  },
  {
   "cell_type": "code",
   "execution_count": 96,
   "metadata": {},
   "outputs": [
    {
     "output_type": "execute_result",
     "data": {
      "text/plain": [
       "      CLIENTE                                                     RENDA  \\\n",
       "        count       mean        std  min   25%   50%    75%   max count   \n",
       "PLANO                                                                     \n",
       "A        46.0  19.478261  14.212263  0.0  7.25  18.5  30.50  46.0  46.0   \n",
       "B        36.0  45.277778  31.129785  0.0  0.00  59.5  68.25  82.0  36.0   \n",
       "\n",
       "                  ... Unnamed: 5     Unnamed: 6                               \n",
       "            mean  ...        75% max      count mean std min 25% 50% 75% max  \n",
       "PLANO             ...                                                         \n",
       "A      10.421739  ...        NaN NaN        0.0  NaN NaN NaN NaN NaN NaN NaN  \n",
       "B       5.688889  ...        NaN NaN        0.0  NaN NaN NaN NaN NaN NaN NaN  \n",
       "\n",
       "[2 rows x 32 columns]"
      ],
      "text/html": "<div>\n<style scoped>\n    .dataframe tbody tr th:only-of-type {\n        vertical-align: middle;\n    }\n\n    .dataframe tbody tr th {\n        vertical-align: top;\n    }\n\n    .dataframe thead tr th {\n        text-align: left;\n    }\n\n    .dataframe thead tr:last-of-type th {\n        text-align: right;\n    }\n</style>\n<table border=\"1\" class=\"dataframe\">\n  <thead>\n    <tr>\n      <th></th>\n      <th colspan=\"8\" halign=\"left\">CLIENTE</th>\n      <th colspan=\"2\" halign=\"left\">RENDA</th>\n      <th>...</th>\n      <th colspan=\"2\" halign=\"left\">Unnamed: 5</th>\n      <th colspan=\"8\" halign=\"left\">Unnamed: 6</th>\n    </tr>\n    <tr>\n      <th></th>\n      <th>count</th>\n      <th>mean</th>\n      <th>std</th>\n      <th>min</th>\n      <th>25%</th>\n      <th>50%</th>\n      <th>75%</th>\n      <th>max</th>\n      <th>count</th>\n      <th>mean</th>\n      <th>...</th>\n      <th>75%</th>\n      <th>max</th>\n      <th>count</th>\n      <th>mean</th>\n      <th>std</th>\n      <th>min</th>\n      <th>25%</th>\n      <th>50%</th>\n      <th>75%</th>\n      <th>max</th>\n    </tr>\n    <tr>\n      <th>PLANO</th>\n      <th></th>\n      <th></th>\n      <th></th>\n      <th></th>\n      <th></th>\n      <th></th>\n      <th></th>\n      <th></th>\n      <th></th>\n      <th></th>\n      <th></th>\n      <th></th>\n      <th></th>\n      <th></th>\n      <th></th>\n      <th></th>\n      <th></th>\n      <th></th>\n      <th></th>\n      <th></th>\n      <th></th>\n    </tr>\n  </thead>\n  <tbody>\n    <tr>\n      <th>A</th>\n      <td>46.0</td>\n      <td>19.478261</td>\n      <td>14.212263</td>\n      <td>0.0</td>\n      <td>7.25</td>\n      <td>18.5</td>\n      <td>30.50</td>\n      <td>46.0</td>\n      <td>46.0</td>\n      <td>10.421739</td>\n      <td>...</td>\n      <td>NaN</td>\n      <td>NaN</td>\n      <td>0.0</td>\n      <td>NaN</td>\n      <td>NaN</td>\n      <td>NaN</td>\n      <td>NaN</td>\n      <td>NaN</td>\n      <td>NaN</td>\n      <td>NaN</td>\n    </tr>\n    <tr>\n      <th>B</th>\n      <td>36.0</td>\n      <td>45.277778</td>\n      <td>31.129785</td>\n      <td>0.0</td>\n      <td>0.00</td>\n      <td>59.5</td>\n      <td>68.25</td>\n      <td>82.0</td>\n      <td>36.0</td>\n      <td>5.688889</td>\n      <td>...</td>\n      <td>NaN</td>\n      <td>NaN</td>\n      <td>0.0</td>\n      <td>NaN</td>\n      <td>NaN</td>\n      <td>NaN</td>\n      <td>NaN</td>\n      <td>NaN</td>\n      <td>NaN</td>\n      <td>NaN</td>\n    </tr>\n  </tbody>\n</table>\n<p>2 rows × 32 columns</p>\n</div>"
     },
     "metadata": {},
     "execution_count": 96
    }
   ],
   "source": [
    "dados.groupby(['PLANO']).describe()"
   ]
  },
  {
   "cell_type": "markdown",
   "metadata": {},
   "source": [
    "<div id=\"comandos\"></div>\n",
    "\n",
    "___\n",
    "\n",
    "## Lista de comandos utilizados neste notebook\n",
    "\n",
    "Os seguintes comandos foram utilizados neste jupyter notebook. Para facilitar sua consulta, escreva um resumo do que cada um deles faz:\n",
    "\n",
    "- [`.astype`](#astype): ESCREVA AQUI O RESUMO\n",
    "- [`.cat.categories`](#categories): ESCREVA AQUI O RESUMO\n",
    "- [`.value_counts`](#value_counts): ESCREVA AQUI O RESUMO\n",
    "- [`pd.crosstab`](#crosstab): ESCREVA AQUI O RESUMO\n",
    "- [`.mean`](#mean-median-etc): ESCREVA AQUI O RESUMO\n",
    "- [`.median`](#mean-median-etc): ESCREVA AQUI O RESUMO\n",
    "- [`.quantile`](#mean-median-etc): ESCREVA AQUI O RESUMO\n",
    "- [`.var`](#mean-median-etc): ESCREVA AQUI O RESUMO\n",
    "- [`.std`](#mean-median-etc): ESCREVA AQUI O RESUMO\n",
    "- [`.describe`](#describe): ESCREVA AQUI O RESUMO\n",
    "- [`pd.cut`](#cut): ESCREVA AQUI O RESUMO\n",
    "- [`.groupby`](#groupby): ESCREVA AQUI O RESUMO"
   ]
  }
 ],
 "metadata": {
  "kernelspec": {
   "name": "python3",
   "display_name": "Python 3.9.2 64-bit",
   "metadata": {
    "interpreter": {
     "hash": "ac59ebe37160ed0dfa835113d9b8498d9f09ceb179beaac4002f036b9467c963"
    }
   }
  },
  "language_info": {
   "codemirror_mode": {
    "name": "ipython",
    "version": 3
   },
   "file_extension": ".py",
   "mimetype": "text/x-python",
   "name": "python",
   "nbconvert_exporter": "python",
   "pygments_lexer": "ipython3",
   "version": "3.9.2-final"
  }
 },
 "nbformat": 4,
 "nbformat_minor": 4
}