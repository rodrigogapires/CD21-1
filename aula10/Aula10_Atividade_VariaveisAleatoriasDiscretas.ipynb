{
 "cells": [
  {
   "cell_type": "markdown",
   "metadata": {},
   "source": [
    "# Aula 10 - Variáveis aleatórias discretas\n",
    "___\n",
    "\n",
    "\n",
    "<div id=\"indice\"></div>\n",
    "\n",
    "## Índice\n",
    "\n",
    "- [Corretora de Seguros](#corretora-de-seguros)\n",
    "    - [Exercício 1](#ex1)\n",
    "    - [Simulando as vendas de um corretor](#simulando-as-vendas)\n",
    "    - [Exercício 2](#ex2)\n",
    "    - [Exercício 3](#ex3)\n",
    "    - [Exercício 4](#ex4)\n",
    "    - [Exercício 5](#ex5)\n",
    "    - [Exercício 6](#ex6)\n",
    "    - [Exercício 7](#ex7)"
   ]
  },
  {
   "cell_type": "code",
   "execution_count": 1,
   "metadata": {},
   "outputs": [],
   "source": [
    "import numpy as np\n",
    "import random\n",
    "import pandas as pd"
   ]
  },
  {
   "cell_type": "markdown",
   "metadata": {},
   "source": [
    "___\n",
    "\n",
    "<div id=\"corretora-de-seguros\"></div>\n",
    "\n",
    "## Corretora de Seguros\n",
    "\n",
    "Uma corretora de seguros paga uma comissão de R\\\\$50,00 a cada novo seguro que um corretor vende. A probabilidade de um cliente adquirir o seguro é de 0,20. \n",
    "\n",
    "1. Descreva como pode se comportar a comissão se um corretor ao abordar 2 clientes de maneira independente um do outro.\n",
    "1. Qual a probabilidade de um corretor ganhar apenas R\\\\$50,00?\n",
    "\n",
    "Vamos considerar os eventos:\n",
    "\n",
    "- $S_i$: o cliente $i$ compra o seguro;\n",
    "- $N_i = S_i^C$: o cliente $i$ não compra o seguro.\n",
    "\n",
    "Pelo enunciado sabemos que:\n",
    "\n",
    "- $P(S_i) = 0.2$\n",
    "- $P(N_i) = P(S_i^C) = 1 - P(S_i) = 0.8$\n",
    "\n",
    "Listando todas as possíveis combinações de eventos, temos:\n",
    "\n",
    "Cliente 1 | Cliente 2 | Probabilidade           | Valor da comissão \n",
    "--------- | --------- | ----------------------- | -----------------\n",
    "$N_1$     | $N_2$     | $P(N_1)P(N_2)$ = $0.64$ | 0\n",
    "$N_1$     | $S_2$     | $P(N_1)P(S_2)$ = $0.16$ | 50\n",
    "$S_1$     | $N_2$     | $P(S_1)P(N_2)$ = $0.16$ | 50\n",
    "$S_1$     | $S_2$     | $P(S_1)P(S_2)$ = $0.04$ | 100\n",
    "\n",
    "Estamos interessados no valor da comissão de um corretor. Para isso, vamos definir a variável aleatória:\n",
    "\n",
    "- $C$: valor da comissão do corretor.\n",
    "\n",
    "Assim, o item 2 pode ser interpretado como: qual é o valor de $P(C=50)$?\n",
    "\n",
    "Consultando a tabela calculada acima, vemos que $P(C=50) = 0.16 + 0.16 = 0.32$.\n",
    "\n",
    "<div id=\"ex1\"></div>\n",
    "\n",
    "### EXERCÍCIO 1\n",
    "\n",
    "Calcule o valor esperado e a variância da variável $C$.\n",
    "\n",
    "*Resposta esperada para esperança e variância respectivamente: 20.0 reais ; 800.0 reais^2*"
   ]
  },
  {
   "cell_type": "code",
   "execution_count": 56,
   "metadata": {},
   "outputs": [
    {
     "output_type": "stream",
     "name": "stdout",
     "text": [
      "Esperanca: 20.0\n"
     ]
    }
   ],
   "source": [
    "from scipy.stats import binom\n",
    "\n",
    "a,b = binom.stats([0, 50, 100], [0.64, 0.32, 0.04])\n",
    "\n",
    "print(\"Esperanca:\",sum(a))\n"
   ]
  },
  {
   "cell_type": "code",
   "execution_count": 52,
   "metadata": {},
   "outputs": [
    {
     "output_type": "stream",
     "name": "stdout",
     "text": [
      "20.0\n800.0\n"
     ]
    }
   ],
   "source": [
    "valor_medio = 0.64*0 + 0.32*50 + 0.04*100\n",
    "print(valor_medio)\n",
    "variancia = ((0-valor_medio)**2)*0.64 + ((50-valor_medio)**2)*0.32 + ((100-valor_medio)**2)*0.04\n",
    "print(variancia)"
   ]
  },
  {
   "cell_type": "markdown",
   "metadata": {},
   "source": [
    "### Simulando as vendas de um corretor\n",
    "\n",
    "Para termos uma melhor intuição sobre o significado do valor esperado e variância de $C$, ou seja, $E(C)$, vamos realizar uma simulação. Como conhecemos as probabilidades, podemos simular as vendas de um determinado corretor. Considere a função a seguir:"
   ]
  },
  {
   "cell_type": "code",
   "execution_count": 14,
   "metadata": {},
   "outputs": [],
   "source": [
    "# Simula uma venda ocorrendo com probabilidade 0.2\n",
    "def simula_venda():\n",
    "    p = random.random()\n",
    "    if p <= 0.2:\n",
    "        vendeu = True\n",
    "    else:\n",
    "        vendeu = False\n",
    "    return vendeu\n",
    "\n",
    "# Simula a comissao de duas abordagens a clientes\n",
    "def simula_comissao_total(valor_da_comissao):\n",
    "    venda1 = simula_venda()\n",
    "    venda2 = simula_venda()\n",
    "    comissao = 0\n",
    "    if venda1:\n",
    "        comissao += valor_da_comissao\n",
    "    if venda2:\n",
    "        comissao += valor_da_comissao\n",
    "    return comissao"
   ]
  },
  {
   "cell_type": "markdown",
   "metadata": {},
   "source": [
    "Vamos repetir a simulação `n` vezes. A série a seguir contém a comissão de 10 simulações."
   ]
  },
  {
   "cell_type": "code",
   "execution_count": 15,
   "metadata": {},
   "outputs": [
    {
     "output_type": "execute_result",
     "data": {
      "text/plain": [
       "0     0\n",
       "1     0\n",
       "2    50\n",
       "3    50\n",
       "4     0\n",
       "5    50\n",
       "6     0\n",
       "7     0\n",
       "8    50\n",
       "9     0\n",
       "dtype: int64"
      ]
     },
     "metadata": {},
     "execution_count": 15
    }
   ],
   "source": [
    "def simula_n_vezes(n, valor_da_comissao, valor_fixo):    \n",
    "    simulacoes = []\n",
    "    for i in range(n):\n",
    "        comissao = simula_comissao_total(valor_da_comissao) + valor_fixo\n",
    "        simulacoes.append(comissao)\n",
    "    return pd.Series(simulacoes)\n",
    "    \n",
    "n = 10\n",
    "valor_da_comissao = 50\n",
    "simulacoes = simula_n_vezes(n, valor_da_comissao, 0)\n",
    "simulacoes"
   ]
  },
  {
   "cell_type": "markdown",
   "metadata": {},
   "source": [
    "Vamos verificar a comissão média recebida nas simulações. Além disso, vamos imprimir também a variância."
   ]
  },
  {
   "cell_type": "code",
   "execution_count": 57,
   "metadata": {},
   "outputs": [
    {
     "output_type": "stream",
     "name": "stdout",
     "text": [
      "Média = 19.894\nVariância = 794.028764\n"
     ]
    }
   ],
   "source": [
    "media = simulacoes.mean()\n",
    "variancia = simulacoes.var(ddof=0)  # Pesquise o que significa o argumento ddof=0\n",
    "print('Média = {0}\\nVariância = {1}'.format(media, variancia))"
   ]
  },
  {
   "cell_type": "markdown",
   "metadata": {},
   "source": [
    "Esse valor é possívelmente bastante diferente do valor esperado calculado no [exercício 1](#ex1). Vamos verificar o que acontece quando aumentamos a quantidade de simulações:\n",
    "\n",
    "<div id=\"n-simulacoes\"></div>"
   ]
  },
  {
   "cell_type": "code",
   "execution_count": 82,
   "metadata": {},
   "outputs": [
    {
     "output_type": "stream",
     "name": "stdout",
     "text": [
      "Simulando n = 10 vezes:\n    comissão média = 25.0\n    variância = 1125.0\nSimulando n = 100 vezes:\n    comissão média = 22.5\n    variância = 868.75\nSimulando n = 1000 vezes:\n    comissão média = 19.1\n    variância = 740.19\nSimulando n = 10000 vezes:\n    comissão média = 19.775\n    variância = 791.6993749999998\nSimulando n = 100000 vezes:\n    comissão média = 20.0535\n    variância = 796.83213775\n"
     ]
    }
   ],
   "source": [
    "valor_da_comissao = 50\n",
    "for i in range(1, 6):\n",
    "    n = 10**i\n",
    "    simulacoes = simula_n_vezes(n, valor_da_comissao, 0)\n",
    "    comissao_media = simulacoes.mean()\n",
    "    variancia = simulacoes.var(ddof=0)\n",
    "    print('Simulando n = {0} vezes:'.format(n))\n",
    "    print('    comissão média = {0}'.format(comissao_media))\n",
    "    print('    variância = {0}'.format(variancia))"
   ]
  },
  {
   "cell_type": "markdown",
   "metadata": {},
   "source": [
    "<div id=\"ex2\"></div>\n",
    "\n",
    "### EXERCÍCIO 2\n",
    "\n",
    "Observando os resultados acima, qual você esperaria ser a média e variância de 1000000000000 simulações? Você não deve realizar essa simulação, apenas discutir qual você espera ser o resultado. Por quê?"
   ]
  },
  {
   "cell_type": "markdown",
   "metadata": {},
   "source": [
    "\n",
    "Neste caso, a média e a variância simuladas seriam muito próximas do valor ideal calculado"
   ]
  },
  {
   "cell_type": "markdown",
   "metadata": {},
   "source": [
    "## Tomando uma decisão\n",
    "\n",
    "Imagine que a corretora de seguros irá fornecer um aumento na comissão dos corretores. Entretanto, cada corretor poderá escolher uma das seguintes opções:\n",
    "\n",
    "- Nova comissão será a comissão atual mais um fixo de R$ 20,00;\n",
    "- Nova comissão será o dobro da atual comissão.\n",
    "\n",
    "1. Escolha qual delas é melhor para aumentar o ganho de um corretor. Justifique sua resposta."
   ]
  },
  {
   "cell_type": "markdown",
   "metadata": {},
   "source": [
    "<div id=\"ex3\"></div>\n",
    "\n",
    "### EXERCÍCIO 3\n",
    "\n",
    "Construa a distribuição de probabilidade e calcule o valor esperado e a variância de cada opção. "
   ]
  },
  {
   "cell_type": "markdown",
   "metadata": {},
   "source": [
    "Cliente 1 | Cliente 2 | Probabilidade           | Valor da comissão\n",
    "--------- | --------- | ----------------------- | -----------------\n",
    "$N_1$     | $N_2$     | $P(N_1)P(N_2)$ = $0.64$ | 20\n",
    "$N_1$     | $S_2$     | $P(N_1)P(S_2)$ = $0.16$ | 70\n",
    "$S_1$     | $N_2$     | $P(S_1)P(N_2)$ = $0.16$ | 70\n",
    "$S_1$     | $S_2$     | $P(S_1)P(S_2)$ = $0.04$ | 120\n",
    "\n"
   ]
  },
  {
   "source": [
    "valor_medio = 0.64*20 + 0.32*70 + 0.04*120\n",
    "print(valor_medio)\n",
    "variancia = ((20-valor_medio)**2)*0.64 + ((70-valor_medio)**2)*0.32 + ((120-valor_medio)**2)*0.04\n",
    "print(variancia)"
   ],
   "cell_type": "markdown",
   "metadata": {}
  },
  {
   "cell_type": "code",
   "execution_count": 86,
   "metadata": {},
   "outputs": [
    {
     "output_type": "stream",
     "name": "stdout",
     "text": [
      "40.0\n800.0\n"
     ]
    }
   ],
   "source": [
    "Cliente 1 | Cliente 2 | Probabilidade           | Valor da comissão\n",
    "--------- | --------- | ----------------------- | -----------------\n",
    "$N_1$     | $N_2$     | $P(N_1)P(N_2)$ = $0.64$ | 0\n",
    "$N_1$     | $S_2$     | $P(N_1)P(S_2)$ = $0.16$ | 100\n",
    "$S_1$     | $N_2$     | $P(S_1)P(N_2)$ = $0.16$ | 100\n",
    "$S_1$     | $S_2$     | $P(S_1)P(S_2)$ = $0.04$ | 200"
   ]
  },
  {
   "cell_type": "code",
   "execution_count": 90,
   "metadata": {},
   "outputs": [
    {
     "output_type": "stream",
     "name": "stdout",
     "text": [
      "40.0\n",
      "3200.0\n"
     ]
    }
   ],
   "source": [
    "valor_medio = 0.64*0 + 0.32*100 + 0.04*200\n",
    "print(valor_medio)\n",
    "variancia = ((0-valor_medio)**2)*0.64 + ((100-valor_medio)**2)*0.32 + ((200-valor_medio)**2)*0.04\n",
    "print(variancia)"
   ]
  },
  {
   "cell_type": "markdown",
   "metadata": {},
   "source": [
    "<div id=\"ex4\"></div>\n",
    "\n",
    "### EXERCÍCIO 4\n",
    "\n",
    "Baseado nas propriedades da esperança (nos slides), calcule o valor esperado para a nova comissão em cada uma das opções.\n",
    "\n",
    "*Resposta esperada para esperança opção 1 e 2 respectivamente: 40.0 reais ; 40.0 reais*"
   ]
  },
  {
   "cell_type": "code",
   "execution_count": null,
   "metadata": {},
   "outputs": [],
   "source": [
    "# ESCREVA SEU CÓDIGO AQUI"
   ]
  },
  {
   "cell_type": "markdown",
   "metadata": {},
   "source": [
    "<div id=\"ex5\"></div>\n",
    "\n",
    "### EXERCÍCIO 5\n",
    "\n",
    "Baseado nas propriedades da variância (nos slides), calcule a variância para a nova comissão em cada uma das opções.\n",
    "\n",
    "*Resposta esperada para variância opção 1 e 2 respectivamente: 800.0 reais^2 ; 3200.0 reais^2*"
   ]
  },
  {
   "cell_type": "code",
   "execution_count": null,
   "metadata": {},
   "outputs": [],
   "source": [
    "# ESCREVA SEU CÓDIGO AQUI"
   ]
  },
  {
   "cell_type": "markdown",
   "metadata": {},
   "source": [
    "<div id=\"ex6\"></div>\n",
    "\n",
    "### EXERCÍCIO 6\n",
    "\n",
    "Vamos verificar as propriedades da esperança e da variância. Utilize a função `simula_n_vezes` como mostrado [nesta célula](#n-simulacoes) para realizar simulações das duas novas opções de comissão para os seguintes valores de `n`: 10, 100, 1000, 10000, 100000."
   ]
  },
  {
   "cell_type": "code",
   "execution_count": 106,
   "metadata": {},
   "outputs": [
    {
     "output_type": "stream",
     "name": "stdout",
     "text": [
      "Simulando n = 10 vezes:\n    comissão média = 45.0\n    variância = 625.0\nSimulando n = 100 vezes:\n    comissão média = 39.5\n    variância = 944.75\nSimulando n = 1000 vezes:\n    comissão média = 39.8\n    variância = 782.96\nSimulando n = 10000 vezes:\n    comissão média = 39.885\n    variância = 786.3367750000002\nSimulando n = 100000 vezes:\n    comissão média = 39.97\n    variância = 800.4991000000001\n"
     ]
    }
   ],
   "source": [
    "valor_da_comissao = 50\n",
    "for i in range(1, 6):\n",
    "    n = 10**i\n",
    "    simulacoes = simula_n_vezes(n, valor_da_comissao, 20)\n",
    "    comissao_media = simulacoes.mean()\n",
    "    variancia = simulacoes.var(ddof=0)\n",
    "    print('Simulando n = {0} vezes:'.format(n))\n",
    "    print('    comissão média = {0}'.format(comissao_media))\n",
    "    print('    variância = {0}'.format(variancia))"
   ]
  },
  {
   "cell_type": "code",
   "execution_count": 123,
   "metadata": {},
   "outputs": [
    {
     "output_type": "stream",
     "name": "stdout",
     "text": [
      "Simulando n = 10 vezes:\n    comissão média = 40.0\n    variância = 2400.0\nSimulando n = 100 vezes:\n    comissão média = 40.0\n    variância = 3600.0\nSimulando n = 1000 vezes:\n    comissão média = 40.4\n    variância = 3367.840000000001\nSimulando n = 10000 vezes:\n    comissão média = 39.54\n    variância = 3200.5884000000005\nSimulando n = 100000 vezes:\n    comissão média = 39.643\n    variância = 3167.5325510000007\n"
     ]
    }
   ],
   "source": [
    "valor_da_comissao = 100\n",
    "for i in range(1, 6):\n",
    "    n = 10**i\n",
    "    simulacoes = simula_n_vezes(n, valor_da_comissao, 0)\n",
    "    comissao_media = simulacoes.mean()\n",
    "    variancia = simulacoes.var(ddof=0)\n",
    "    print('Simulando n = {0} vezes:'.format(n))\n",
    "    print('    comissão média = {0}'.format(comissao_media))\n",
    "    print('    variância = {0}'.format(variancia))"
   ]
  },
  {
   "cell_type": "markdown",
   "metadata": {},
   "source": [
    "<div id=\"ex7\"></div>\n",
    "\n",
    "### EXERCÍCIO 7\n",
    "\n",
    "Baseado nos resultados acima, qual opção você recomendaria para um corretor?"
   ]
  },
  {
   "cell_type": "markdown",
   "metadata": {},
   "source": [
    "ESCREVA SUA RESPOSTA AQUI"
   ]
  },
  {
   "cell_type": "markdown",
   "metadata": {},
   "source": [
    "# Referências\n",
    "\n",
    "1. MONTGOMERY, D. et al. Estatística Aplicada e Probabilidade para Engenheiros. 6. ed. Seções 2.8 e 3.1\n",
    "1. MAGALHÃES, M. et al. Noções de Probabilidade e Estatística. 7. ed. Seções 3.1 e definições 4.2 (p. 110) e 4.5 (p. 121)"
   ]
  }
 ],
 "metadata": {
  "kernelspec": {
   "name": "python394jvsc74a57bd05c894ff839a48d4c77499b12de5ae102574276f781916b9d57be3a7c4f5e8334",
   "display_name": "Python 3.9.4 64-bit"
  },
  "language_info": {
   "codemirror_mode": {
    "name": "ipython",
    "version": 3
   },
   "file_extension": ".py",
   "mimetype": "text/x-python",
   "name": "python",
   "nbconvert_exporter": "python",
   "pygments_lexer": "ipython3",
   "version": "3.9.4"
  }
 },
 "nbformat": 4,
 "nbformat_minor": 4
}